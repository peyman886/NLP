{
  "nbformat": 4,
  "nbformat_minor": 0,
  "metadata": {
    "colab": {
      "provenance": [],
      "collapsed_sections": [
        "y7lz1DieBprm",
        "EpnRNceQBM-o",
        "r7lMCBOiYNqm",
        "kJO91j_qb87R"
      ]
    },
    "kernelspec": {
      "name": "python3",
      "display_name": "Python 3"
    },
    "language_info": {
      "name": "python"
    }
  },
  "cells": [
    {
      "cell_type": "markdown",
      "source": [
        "# NLP Assignment #03 - Exploring Generative Language Models\n",
        "### Natural Language Processing, Khatam University, Winter 1402\n",
        "\n",
        "- Instructor: Dr. Yadollah Yaghoobzadeh\n",
        "- Notebook Prepared By: Mahdi Zakizadeh\n",
        "\n",
        "In this assignment, we delve into the workings of generative language models, focusing on the decoding process, the intricacies of translation tasks, and the visualization of attention mechanisms. Through hands-on exercises, you'll gain insights into the capabilities and inner workings of state-of-the-art NLP models.\n",
        "\n",
        "**Contact**: Should you have any questions, feel free to email me at mahdizakizadeh.me@gmail.com or contact me on Telegram [@mahdizakizadeh](http://t.me/mahdizakizadeh).\n",
        "\n",
        "---\n"
      ],
      "metadata": {
        "id": "bFg5APF77dnM"
      }
    },
    {
      "cell_type": "markdown",
      "source": [
        "**Please pay attention to these notes:**\n",
        "<br><br>\n",
        "\n",
        "- **Assignment Due:** <b><font color='red'>1402.09.05</font></b> 23:59:00\n",
        "- If you need any additional information, please review the assignment page on the course website.\n",
        "- The items you need to answer are highlighted in <font color=\"green\">**bold green**</font>, and the coding parts you need to implement are denoted by:\n",
        "\n",
        "```\n",
        "## Your code begins ##\n",
        "...\n",
        "## Your code ends ##\n",
        "```\n",
        "\n",
        "for a block of codes and\n",
        "\n",
        "```\n",
        "\"\"\" Implement this \"\"\"\n",
        "```\n",
        "\n",
        "for inline codes.\n",
        "\n",
        "- Collaboration and discussion within groups are encouraged for this assignment. However, **each student must complete all questions individually**. Should our matching system detect any form of copying, you will face the associated consequences.\n",
        "- In the spirit of academic integrity, if you use any form of large language models (LLMs) such as ChatGPT, Bing, Claude, etc., **you must provide detailed conversation logs and prompts used**. Responsible use of these systems will not impact your scores negatively. However, failure to adequately cite the use of these systems, if detected, can negatively affect your scores.\n",
        "- If you encounter any challenges or have questions, don't hesitate to reach out.\n",
        "- You can double click on collapsed code cells to expand them.\n",
        "\n",
        "<br>"
      ],
      "metadata": {
        "id": "WXJR2jO19m-G"
      }
    },
    {
      "cell_type": "markdown",
      "source": [
        "## 1. Introduction\n",
        "\n",
        "Welcome to Assignment #03 in our Natural Language Processing course. In this journey, we're going to dive deep into the fascinating world of generative language models, exploring their capabilities and understanding their inner workings.\n",
        "\n",
        "Generative models have been at the forefront of recent advances in NLP, offering remarkable abilities to generate text, translate languages, and even answer complex questions. They've opened doors to new possibilities, from chatbots that can converse like humans to systems that can write poetic verses or translate between languages with astonishing accuracy.\n",
        "\n",
        "In this assignment, we will focus on three key areas:\n",
        "1. **Decoding Mechanisms**: We'll start by unraveling the mysteries of how generative models produce text. You'll get hands-on experience with decoding strategies like beam search, learning to tweak them to see how they influence the generated text.\n",
        "2. **Translation Tasks**: Next, we'll delve into the translation capabilities of models, particularly the powerful encoder-decoder structures. You'll experiment with these models, comparing their effectiveness in translating languages.\n",
        "3. **Attention Visualization**: Finally, we'll peek into the \"brain\" of these models by visualizing their attention mechanisms. This will give us a glimpse into how these models focus on different parts of the input to generate coherent and contextually relevant responses.\n",
        "\n",
        "Throughout this assignment, you'll gain not only theoretical knowledge but also practical skills in implementing and manipulating these advanced NLP models. We encourage you to experiment, explore, and even make mistakes - that's the best way to learn!\n",
        "\n",
        "Remember, this is not just about getting to the right answers; it's about appreciating the elegance of these models and understanding their capabilities and limitations. So, let's get started on this exciting journey into the world of generative language models! 🚀\n",
        "\n",
        "Have fun exploring!"
      ],
      "metadata": {
        "id": "y7lz1DieBprm"
      }
    },
    {
      "cell_type": "code",
      "source": [
        "# @title Environment Setup\n",
        "# Note: Do NOT make changes to this block.\n",
        "# ----------------\n",
        "%pip install transformers datasets sentencepiece\n",
        "\n",
        "import warnings\n",
        "\n",
        "import torch\n",
        "from transformers import T5ForConditionalGeneration, T5Tokenizer, GPT2LMHeadModel, GPT2Tokenizer\n",
        "from datasets import load_dataset\n",
        "import numpy as np\n",
        "import matplotlib.pyplot as plt\n",
        "import seaborn as sns\n",
        "\n",
        "from IPython.display import clear_output\n",
        "\n",
        "clear_output()\n",
        "\n",
        "if torch.cuda.is_available():\n",
        "  device = torch.device(\"cuda\")\n",
        "else:\n",
        "  device = \"cpu\"\n",
        "  warnings.warn(\"CUDA is not available. GPU processing can't be performed.\")\n",
        "\n",
        "# ----------------"
      ],
      "metadata": {
        "id": "QiV5zaWlDgIL",
        "outputId": "216bb7d8-94ec-45b9-d65c-2bdba133bc8d",
        "colab": {
          "base_uri": "https://localhost:8080/"
        }
      },
      "execution_count": 8,
      "outputs": [
        {
          "output_type": "stream",
          "name": "stderr",
          "text": [
            "<ipython-input-8-617391655b70>:23: UserWarning: CUDA is not available. GPU processing can't be performed.\n",
            "  warnings.warn(\"CUDA is not available. GPU processing can't be performed.\")\n"
          ]
        }
      ]
    },
    {
      "cell_type": "code",
      "source": [
        "device"
      ],
      "metadata": {
        "id": "xvS6TDOKQ3Cy",
        "outputId": "9b4f80c0-6c9a-40ac-de2a-37ed491530e7",
        "colab": {
          "base_uri": "https://localhost:8080/",
          "height": 36
        }
      },
      "execution_count": 9,
      "outputs": [
        {
          "output_type": "execute_result",
          "data": {
            "text/plain": [
              "'cpu'"
            ],
            "application/vnd.google.colaboratory.intrinsic+json": {
              "type": "string"
            }
          },
          "metadata": {},
          "execution_count": 9
        }
      ]
    },
    {
      "cell_type": "markdown",
      "source": [
        "## 2. Beam Search\n",
        "\n",
        "The beam search algorithm is a heuristic search algorithm that explores a graph by expanding the most promising node in a limited set. It's like a breadth-first search that prunes away branches that are less likely to lead to the optimal solution. In the context of language models, it's a technique used to generate text where at each step, instead of considering all possible next tokens, only a specified number of the most probable next tokens (defined by the beam width `k`) are kept. This approach balances between the breadth of the search and computational efficiency, making it possible to generate more coherent and contextually appropriate sequences than a greedy search, which only considers the single best next token at each step.\n"
      ],
      "metadata": {
        "id": "EpnRNceQBM-o"
      }
    },
    {
      "cell_type": "markdown",
      "source": [
        "### Step by Step Guide\n",
        "\n",
        "Here’s what you need to implement:\n",
        "\n",
        "1. **Initialization**: Set up your initial beam containing the tokenized input and an initial score.\n",
        "\n",
        "2. **Beam Search Loop**:\n",
        "   - For each step until `max_length`, expand each sequence in the current beam to all possible next tokens.\n",
        "   - Calculate the score for each new sequence. This score is typically the product of the probabilities (often converted from logit predictions for numerical stability) of all tokens in the sequence.\n",
        "\n",
        "3. **Probability Calculation**:\n",
        "   - Implement softmax on the logits to get the probabilities for each token in the vocabulary.\n",
        "\n",
        "4. **Sequence Expansion**:\n",
        "   - For each sequence in your beam, create new sequences by appending each possible next token.\n",
        "   - Calculate the new score for each sequence.\n",
        "\n",
        "5. **Candidate Selection**:\n",
        "   - Combine all new sequences from all beam sequences and sort them by their scores.\n",
        "   - Select the top `k` sequences with the highest scores to form the new beam.\n",
        "\n",
        "6. **Sequence Decoding**:\n",
        "   - Once you reach the `max_length` or all sequences in the beam end with an end-of-sequence token, decode the sequences in the beam to strings.\n",
        "\n",
        "7. **Output**:\n",
        "   - Return the decoded sequences along with their final scores.\n",
        "\n",
        "Remember, the quality of the generated text depends on the proper implementation of each step. Take your time to think through the logic, and don't hesitate to ask questions if something doesn't quite make sense. Good luck!\n",
        "\n",
        "<font color=\"red\">Warning: You are not allowed to use predefined implementations of the beam search function from libraries or frameworks!</font>"
      ],
      "metadata": {
        "id": "QE2uGtYrJMx0"
      }
    },
    {
      "cell_type": "code",
      "source": [
        "# # @title Q1: Implementing the Vanilla Beam Search Decoder\n",
        "\n",
        "# def beam_search_decoder(model, tokenizer, text, k, max_length):\n",
        "#   \"\"\"\n",
        "#   Perform beam search decoding for the given model and a starting input text.\n",
        "\n",
        "#   Args:\n",
        "#   model (PreTrainedModel): The language model to use for generating predictions.\n",
        "#   tokenizer (PreTrainedTokenizer): The tokenizer corresponding to the model.\n",
        "#   text (str): The input text to start the generation.\n",
        "#   k (int): The beam width; number of sequences to keep at each step.\n",
        "#   max_length (int): The maximum length of the generated sequence.\n",
        "\n",
        "#   Returns:\n",
        "#   list of tuples: A list where each tuple contains a generated sequence and its score.\n",
        "#   \"\"\"\n",
        "\n",
        "#   input_ids = tokenizer.encode(text, return_tensors='pt')\n",
        "\n",
        "#   sequences = [(input_ids, 1.0)]\n",
        "\n",
        "#   ## Your code begins ##\n",
        "#   for _ in range(max_length - input_ids.size(1)):\n",
        "#     all_candidates = list()\n",
        "\n",
        "#     for seq, score in sequences:\n",
        "\n",
        "#       probabilities = None\n",
        "\n",
        "#       for token_id in range(len(probabilities)):\n",
        "#         pass\n",
        "\n",
        "#       sequences = None\n",
        "#   ## Your code ends ##\n",
        "\n",
        "#   decoded_sequences = []\n",
        "#   for seq, score in sequences:\n",
        "#     decoded_sequence = tokenizer.decode(seq[0].squeeze().tolist())\n",
        "#     decoded_sequences.append((decoded_sequence, score))\n",
        "\n",
        "#   return decoded_sequences\n"
      ],
      "metadata": {
        "id": "5MJYt-_VHyu6"
      },
      "execution_count": 10,
      "outputs": []
    },
    {
      "cell_type": "code",
      "source": [
        "# @title Q1: Implementing the Vanilla Beam Search Decoder\n",
        "def beam_search_decoder(model, tokenizer, text, k, max_length):\n",
        "  \"\"\"\n",
        "  Perform beam search decoding for the given model and a starting input text.\n",
        "\n",
        "  Args:\n",
        "  model (PreTrainedModel): The language model to use for generating predictions.\n",
        "  tokenizer (PreTrainedTokenizer): The tokenizer corresponding to the model.\n",
        "  text (str): The input text to start the generation.\n",
        "  k (int): The beam width; number of sequences to keep at each step.\n",
        "  max_length (int): The maximum length of the generated sequence.\n",
        "\n",
        "  Returns:\n",
        "  list of tuples: A list where each tuple contains a generated sequence and its score.\n",
        "  \"\"\"\n",
        "  # Handle empty input text\n",
        "  if text.strip() == \"\":\n",
        "    # Use a generic token (like start of sentence) if text is empty\n",
        "    input_ids = torch.tensor([tokenizer.bos_token_id]).unsqueeze(0)\n",
        "  else:\n",
        "    input_ids = tokenizer.encode(text, return_tensors='pt')\n",
        "\n",
        "  sequences = [(input_ids, 1.0)]\n",
        "\n",
        "  for _ in range(max_length - input_ids.size(1)):\n",
        "    all_candidates = []\n",
        "\n",
        "    for seq, score in sequences:\n",
        "      # Ensure the sequence is not empty\n",
        "      if seq.size(1) > 0:\n",
        "        # Generate the next token probabilities\n",
        "        outputs = model(seq)\n",
        "        logits = outputs.logits[:, -1, :]\n",
        "\n",
        "        probabilities = torch.softmax(logits, dim=-1).squeeze()\n",
        "\n",
        "        # Consider each next token\n",
        "        for token_id in range(len(probabilities)):\n",
        "          new_seq = torch.cat([seq, torch.tensor([[token_id]]).to(seq.device)], dim=-1)\n",
        "          new_score = score * probabilities[token_id].item() # Multiply by the new token's probability\n",
        "          all_candidates.append((new_seq, new_score))\n",
        "\n",
        "    print('*******')\n",
        "    print(new_seq)\n",
        "    print('********')\n",
        "    print(new_score)\n",
        "    print('********')\n",
        "    print(all_candidates)\n",
        "    print('********')\n",
        "    # print(all_candidates)\n",
        "    # Sort all candidates by score\n",
        "    ordered = sorted(all_candidates, key=lambda x: x[1], reverse=True)\n",
        "    # Select top-k sequences\n",
        "    sequences = ordered[:k]\n",
        "\n",
        "\n",
        "  decoded_sequences = []\n",
        "  for seq, score in sequences:\n",
        "    decoded_sequence = tokenizer.decode(seq[0].squeeze().tolist())\n",
        "    decoded_sequences.append((decoded_sequence, score))\n",
        "\n",
        "  return decoded_sequences"
      ],
      "metadata": {
        "id": "u0NwqZCDbaY1"
      },
      "execution_count": 42,
      "outputs": []
    },
    {
      "cell_type": "code",
      "source": [
        "# # @title Q1: Implementing the Vanilla Beam Search Decoder\n",
        "\n",
        "# def beam_search_decoder(model, tokenizer, text, k, max_length):\n",
        "#   \"\"\"\n",
        "#   Perform beam search decoding for the given model and a starting input text.\n",
        "\n",
        "#   Args:\n",
        "#   model (PreTrainedModel): The language model to use for generating predictions.\n",
        "#   tokenizer (PreTrainedTokenizer): The tokenizer corresponding to the model.\n",
        "#   text (str): The input text to start the generation.\n",
        "#   k (int): The beam width; number of sequences to keep at each step.\n",
        "#   max_length (int): The maximum length of the generated sequence.\n",
        "\n",
        "#   Returns:\n",
        "#   list of tuples: A list where each tuple contains a generated sequence and its score.\n",
        "#   \"\"\"\n",
        "\n",
        "#   input_ids = tokenizer.encode(text, return_tensors='pt')\n",
        "\n",
        "#   sequences = [(input_ids, 1.0)]\n",
        "\n",
        "#   ## Your code begins ##\n",
        "#   for _ in range(max_length - input_ids.size(1)):\n",
        "#     all_candidates = list()\n",
        "\n",
        "#     for seq, score in sequences:\n",
        "#       # Generate the next token probabilities\n",
        "#       output = model(seq)\n",
        "#       logits = output.logits\n",
        "#       probabilities = torch.softmax(logits[:, -1, :], dim=-1).squeeze()\n",
        "\n",
        "#       # Consider each next token\n",
        "#       for token_id in range(probabilities.size(0)):\n",
        "#         token_id_tensor = torch.tensor([token_id])  # Convert to a tensor and send to the same device\n",
        "#         token_id_tensor = token_id_tensor.unsqueeze(0)  # Reshape to [1, 1]\n",
        "#         next_seq = torch.cat([seq, token_id_tensor], dim=-1)\n",
        "#         next_score = score * probabilities[token_id].item()  # Multiply by the new token's probability\n",
        "\n",
        "#         all_candidates.append((next_seq, next_score))\n",
        "\n",
        "#     # Sort all candidates by score\n",
        "#     ordered = sorted(all_candidates, key=lambda x: x[1], reverse=True)\n",
        "\n",
        "#     # Select top 'k' sequences\n",
        "#     sequences = ordered[:k]\n",
        "#   ## Your code ends ##\n",
        "\n",
        "#   decoded_sequences = []\n",
        "#   for seq, score in sequences:\n",
        "#     decoded_sequence = tokenizer.decode(seq[0].squeeze().tolist())\n",
        "#     decoded_sequences.append((decoded_sequence, score))\n",
        "\n",
        "#   return decoded_sequences\n"
      ],
      "metadata": {
        "id": "PTr4gMKCK_sX"
      },
      "execution_count": 43,
      "outputs": []
    },
    {
      "cell_type": "markdown",
      "source": [
        "\n",
        "\n",
        "```\n",
        "# This is formatted as code\n",
        "```\n",
        "\n",
        "### Analyzing Beam Search Output\n",
        "\n",
        "After you've implemented the vanilla beam search decoder, it's time to put it to the test and analyze its performance. This part of the assignment is crucial for understanding the behavior of the algorithm under different conditions and recognizing some of the common challenges associated with text generation in NLP.\n",
        "\n",
        "Start by experimenting with your beam search implementation. Try out different input sentences and beam widths (the `k` parameter), and observe how they affect the resulting generated text. You might want to consider questions like:\n",
        "\n",
        "- How does changing the beam width influence the diversity of the output?\n",
        "- What happens if the beam width is set to 1? How about a much larger number?\n",
        "- Do you notice any repetitive patterns or suboptimal text generation?"
      ],
      "metadata": {
        "id": "3R5DP2DvMFI4"
      }
    },
    {
      "cell_type": "code",
      "source": [
        "# @title Model Initialization\n",
        "model = GPT2LMHeadModel.from_pretrained('gpt2')\n",
        "tokenizer = GPT2Tokenizer.from_pretrained('gpt2')"
      ],
      "metadata": {
        "id": "xSjZDH1kQX67"
      },
      "execution_count": 44,
      "outputs": []
    },
    {
      "cell_type": "code",
      "source": [
        "# @title Testing Your Vanilla Beam Search Decoder Implementation\n",
        "text = \"My name is \" # @param {type:\"string\"}\n",
        "k = 3 # @param {type:\"integer\"}\n",
        "max_length = 25 # @param {type:\"number\"}\n",
        "\n",
        "sequences = beam_search_decoder(model, tokenizer, text, k, max_length)\n",
        "\n",
        "for sequence in sequences:\n",
        "  print(f\"Sequence: {sequence[0]}, Score: {sequence[1]}\")\n"
      ],
      "metadata": {
        "id": "8k6DRKSdI0iD",
        "outputId": "f3625662-89cc-40b3-ab1e-156a199ad8ab",
        "colab": {
          "base_uri": "https://localhost:8080/",
          "height": 1000
        }
      },
      "execution_count": 45,
      "outputs": [
        {
          "output_type": "stream",
          "name": "stdout",
          "text": [
            "*******\n",
            "tensor([[ 3666,  1438,   318,   220, 50256]])\n",
            "********\n",
            "5.339151130101527e-07\n",
            "********\n"
          ]
        },
        {
          "output_type": "stream",
          "name": "stderr",
          "text": [
            "IOPub data rate exceeded.\n",
            "The notebook server will temporarily stop sending output\n",
            "to the client in order to avoid crashing it.\n",
            "To change this limit, set the config variable\n",
            "`--NotebookApp.iopub_data_rate_limit`.\n",
            "\n",
            "Current values:\n",
            "NotebookApp.iopub_data_rate_limit=1000000.0 (bytes/sec)\n",
            "NotebookApp.rate_limit_window=3.0 (secs)\n",
            "\n"
          ]
        },
        {
          "output_type": "stream",
          "name": "stdout",
          "text": [
            "*******\n",
            "tensor([[ 3666,  1438,   318,   220,  1427, 50256]])\n",
            "********\n",
            "2.901490967034681e-05\n",
            "********\n"
          ]
        },
        {
          "output_type": "stream",
          "name": "stderr",
          "text": [
            "IOPub data rate exceeded.\n",
            "The notebook server will temporarily stop sending output\n",
            "to the client in order to avoid crashing it.\n",
            "To change this limit, set the config variable\n",
            "`--NotebookApp.iopub_data_rate_limit`.\n",
            "\n",
            "Current values:\n",
            "NotebookApp.iopub_data_rate_limit=1000000.0 (bytes/sec)\n",
            "NotebookApp.rate_limit_window=3.0 (secs)\n",
            "\n"
          ]
        },
        {
          "output_type": "stream",
          "name": "stdout",
          "text": [
            "*******\n",
            "tensor([[ 3666,  1438,   318,   220, 29343,    13, 50256]])\n",
            "********\n",
            "4.750262063075704e-05\n",
            "********\n"
          ]
        },
        {
          "output_type": "stream",
          "name": "stderr",
          "text": [
            "IOPub data rate exceeded.\n",
            "The notebook server will temporarily stop sending output\n",
            "to the client in order to avoid crashing it.\n",
            "To change this limit, set the config variable\n",
            "`--NotebookApp.iopub_data_rate_limit`.\n",
            "\n",
            "Current values:\n",
            "NotebookApp.iopub_data_rate_limit=1000000.0 (bytes/sec)\n",
            "NotebookApp.rate_limit_window=3.0 (secs)\n",
            "\n"
          ]
        },
        {
          "output_type": "stream",
          "name": "stdout",
          "text": [
            "*******\n",
            "tensor([[ 3666,  1438,   318,   220, 29343,    11,   290, 50256]])\n",
            "********\n",
            "7.062582578039828e-08\n",
            "********\n"
          ]
        },
        {
          "output_type": "stream",
          "name": "stderr",
          "text": [
            "IOPub data rate exceeded.\n",
            "The notebook server will temporarily stop sending output\n",
            "to the client in order to avoid crashing it.\n",
            "To change this limit, set the config variable\n",
            "`--NotebookApp.iopub_data_rate_limit`.\n",
            "\n",
            "Current values:\n",
            "NotebookApp.iopub_data_rate_limit=1000000.0 (bytes/sec)\n",
            "NotebookApp.rate_limit_window=3.0 (secs)\n",
            "\n"
          ]
        },
        {
          "output_type": "stream",
          "name": "stdout",
          "text": [
            "*******\n",
            "tensor([[ 3666,  1438,   318,   220, 29343,   290,   314,  1101, 50256]])\n",
            "********\n",
            "2.5197048966945654e-08\n",
            "********\n"
          ]
        },
        {
          "output_type": "stream",
          "name": "stderr",
          "text": [
            "IOPub data rate exceeded.\n",
            "The notebook server will temporarily stop sending output\n",
            "to the client in order to avoid crashing it.\n",
            "To change this limit, set the config variable\n",
            "`--NotebookApp.iopub_data_rate_limit`.\n",
            "\n",
            "Current values:\n",
            "NotebookApp.iopub_data_rate_limit=1000000.0 (bytes/sec)\n",
            "NotebookApp.rate_limit_window=3.0 (secs)\n",
            "\n"
          ]
        },
        {
          "output_type": "stream",
          "name": "stdout",
          "text": [
            "*******\n",
            "tensor([[ 3666,  1438,   318,   220, 29343,   290,   314,   716,   257, 50256]])\n",
            "********\n",
            "1.7325008841945516e-08\n",
            "********\n"
          ]
        },
        {
          "output_type": "stream",
          "name": "stderr",
          "text": [
            "IOPub data rate exceeded.\n",
            "The notebook server will temporarily stop sending output\n",
            "to the client in order to avoid crashing it.\n",
            "To change this limit, set the config variable\n",
            "`--NotebookApp.iopub_data_rate_limit`.\n",
            "\n",
            "Current values:\n",
            "NotebookApp.iopub_data_rate_limit=1000000.0 (bytes/sec)\n",
            "NotebookApp.rate_limit_window=3.0 (secs)\n",
            "\n"
          ]
        },
        {
          "output_type": "stream",
          "name": "stdout",
          "text": [
            "*******\n",
            "tensor([[ 3666,  1438,   318,   220, 29343,    11,   290,   314,   716,   262,\n",
            "         50256]])\n",
            "********\n",
            "2.415125362321595e-09\n",
            "********\n"
          ]
        },
        {
          "output_type": "stream",
          "name": "stderr",
          "text": [
            "IOPub data rate exceeded.\n",
            "The notebook server will temporarily stop sending output\n",
            "to the client in order to avoid crashing it.\n",
            "To change this limit, set the config variable\n",
            "`--NotebookApp.iopub_data_rate_limit`.\n",
            "\n",
            "Current values:\n",
            "NotebookApp.iopub_data_rate_limit=1000000.0 (bytes/sec)\n",
            "NotebookApp.rate_limit_window=3.0 (secs)\n",
            "\n"
          ]
        },
        {
          "output_type": "stream",
          "name": "stdout",
          "text": [
            "*******\n",
            "tensor([[ 3666,  1438,   318,   220, 29343,    11,   290,   314,   716,   257,\n",
            "          2888, 50256]])\n",
            "********\n",
            "7.970629496011662e-12\n",
            "********\n"
          ]
        },
        {
          "output_type": "error",
          "ename": "KeyboardInterrupt",
          "evalue": "ignored",
          "traceback": [
            "\u001b[0;31m---------------------------------------------------------------------------\u001b[0m",
            "\u001b[0;31mKeyboardInterrupt\u001b[0m                         Traceback (most recent call last)",
            "\u001b[0;32m<ipython-input-45-d90911e6aae2>\u001b[0m in \u001b[0;36m<cell line: 6>\u001b[0;34m()\u001b[0m\n\u001b[1;32m      4\u001b[0m \u001b[0mmax_length\u001b[0m \u001b[0;34m=\u001b[0m \u001b[0;36m25\u001b[0m \u001b[0;31m# @param {type:\"number\"}\u001b[0m\u001b[0;34m\u001b[0m\u001b[0;34m\u001b[0m\u001b[0m\n\u001b[1;32m      5\u001b[0m \u001b[0;34m\u001b[0m\u001b[0m\n\u001b[0;32m----> 6\u001b[0;31m \u001b[0msequences\u001b[0m \u001b[0;34m=\u001b[0m \u001b[0mbeam_search_decoder\u001b[0m\u001b[0;34m(\u001b[0m\u001b[0mmodel\u001b[0m\u001b[0;34m,\u001b[0m \u001b[0mtokenizer\u001b[0m\u001b[0;34m,\u001b[0m \u001b[0mtext\u001b[0m\u001b[0;34m,\u001b[0m \u001b[0mk\u001b[0m\u001b[0;34m,\u001b[0m \u001b[0mmax_length\u001b[0m\u001b[0;34m)\u001b[0m\u001b[0;34m\u001b[0m\u001b[0;34m\u001b[0m\u001b[0m\n\u001b[0m\u001b[1;32m      7\u001b[0m \u001b[0;34m\u001b[0m\u001b[0m\n\u001b[1;32m      8\u001b[0m \u001b[0;32mfor\u001b[0m \u001b[0msequence\u001b[0m \u001b[0;32min\u001b[0m \u001b[0msequences\u001b[0m\u001b[0;34m:\u001b[0m\u001b[0;34m\u001b[0m\u001b[0;34m\u001b[0m\u001b[0m\n",
            "\u001b[0;32m<ipython-input-42-ab7e1508fde8>\u001b[0m in \u001b[0;36mbeam_search_decoder\u001b[0;34m(model, tokenizer, text, k, max_length)\u001b[0m\n\u001b[1;32m     46\u001b[0m     \u001b[0mprint\u001b[0m\u001b[0;34m(\u001b[0m\u001b[0mnew_score\u001b[0m\u001b[0;34m)\u001b[0m\u001b[0;34m\u001b[0m\u001b[0;34m\u001b[0m\u001b[0m\n\u001b[1;32m     47\u001b[0m     \u001b[0mprint\u001b[0m\u001b[0;34m(\u001b[0m\u001b[0;34m'********'\u001b[0m\u001b[0;34m)\u001b[0m\u001b[0;34m\u001b[0m\u001b[0;34m\u001b[0m\u001b[0m\n\u001b[0;32m---> 48\u001b[0;31m     \u001b[0mprint\u001b[0m\u001b[0;34m(\u001b[0m\u001b[0mall_candidates\u001b[0m\u001b[0;34m)\u001b[0m\u001b[0;34m\u001b[0m\u001b[0;34m\u001b[0m\u001b[0m\n\u001b[0m\u001b[1;32m     49\u001b[0m     \u001b[0mprint\u001b[0m\u001b[0;34m(\u001b[0m\u001b[0;34m'********'\u001b[0m\u001b[0;34m)\u001b[0m\u001b[0;34m\u001b[0m\u001b[0;34m\u001b[0m\u001b[0m\n\u001b[1;32m     50\u001b[0m     \u001b[0;31m# print(all_candidates)\u001b[0m\u001b[0;34m\u001b[0m\u001b[0;34m\u001b[0m\u001b[0m\n",
            "\u001b[0;32m/usr/local/lib/python3.10/dist-packages/torch/_tensor.py\u001b[0m in \u001b[0;36m__repr__\u001b[0;34m(self, tensor_contents)\u001b[0m\n\u001b[1;32m    429\u001b[0m             )\n\u001b[1;32m    430\u001b[0m         \u001b[0;31m# All strings are unicode in Python 3.\u001b[0m\u001b[0;34m\u001b[0m\u001b[0;34m\u001b[0m\u001b[0m\n\u001b[0;32m--> 431\u001b[0;31m         \u001b[0;32mreturn\u001b[0m \u001b[0mtorch\u001b[0m\u001b[0;34m.\u001b[0m\u001b[0m_tensor_str\u001b[0m\u001b[0;34m.\u001b[0m\u001b[0m_str\u001b[0m\u001b[0;34m(\u001b[0m\u001b[0mself\u001b[0m\u001b[0;34m,\u001b[0m \u001b[0mtensor_contents\u001b[0m\u001b[0;34m=\u001b[0m\u001b[0mtensor_contents\u001b[0m\u001b[0;34m)\u001b[0m\u001b[0;34m\u001b[0m\u001b[0;34m\u001b[0m\u001b[0m\n\u001b[0m\u001b[1;32m    432\u001b[0m \u001b[0;34m\u001b[0m\u001b[0m\n\u001b[1;32m    433\u001b[0m     def backward(\n",
            "\u001b[0;32m/usr/local/lib/python3.10/dist-packages/torch/_tensor_str.py\u001b[0m in \u001b[0;36m_str\u001b[0;34m(self, tensor_contents)\u001b[0m\n\u001b[1;32m    662\u001b[0m     \u001b[0;32mwith\u001b[0m \u001b[0mtorch\u001b[0m\u001b[0;34m.\u001b[0m\u001b[0mno_grad\u001b[0m\u001b[0;34m(\u001b[0m\u001b[0;34m)\u001b[0m\u001b[0;34m,\u001b[0m \u001b[0mtorch\u001b[0m\u001b[0;34m.\u001b[0m\u001b[0mutils\u001b[0m\u001b[0;34m.\u001b[0m\u001b[0m_python_dispatch\u001b[0m\u001b[0;34m.\u001b[0m\u001b[0m_disable_current_modes\u001b[0m\u001b[0;34m(\u001b[0m\u001b[0;34m)\u001b[0m\u001b[0;34m:\u001b[0m\u001b[0;34m\u001b[0m\u001b[0;34m\u001b[0m\u001b[0m\n\u001b[1;32m    663\u001b[0m         \u001b[0mguard\u001b[0m \u001b[0;34m=\u001b[0m \u001b[0mtorch\u001b[0m\u001b[0;34m.\u001b[0m\u001b[0m_C\u001b[0m\u001b[0;34m.\u001b[0m\u001b[0m_DisableFuncTorch\u001b[0m\u001b[0;34m(\u001b[0m\u001b[0;34m)\u001b[0m\u001b[0;34m\u001b[0m\u001b[0;34m\u001b[0m\u001b[0m\n\u001b[0;32m--> 664\u001b[0;31m         \u001b[0;32mreturn\u001b[0m \u001b[0m_str_intern\u001b[0m\u001b[0;34m(\u001b[0m\u001b[0mself\u001b[0m\u001b[0;34m,\u001b[0m \u001b[0mtensor_contents\u001b[0m\u001b[0;34m=\u001b[0m\u001b[0mtensor_contents\u001b[0m\u001b[0;34m)\u001b[0m\u001b[0;34m\u001b[0m\u001b[0;34m\u001b[0m\u001b[0m\n\u001b[0m",
            "\u001b[0;32m/usr/local/lib/python3.10/dist-packages/torch/_tensor_str.py\u001b[0m in \u001b[0;36m_str_intern\u001b[0;34m(inp, tensor_contents)\u001b[0m\n\u001b[1;32m    593\u001b[0m                         \u001b[0mtensor_str\u001b[0m \u001b[0;34m=\u001b[0m \u001b[0m_tensor_str\u001b[0m\u001b[0;34m(\u001b[0m\u001b[0mself\u001b[0m\u001b[0;34m.\u001b[0m\u001b[0mto_dense\u001b[0m\u001b[0;34m(\u001b[0m\u001b[0;34m)\u001b[0m\u001b[0;34m,\u001b[0m \u001b[0mindent\u001b[0m\u001b[0;34m)\u001b[0m\u001b[0;34m\u001b[0m\u001b[0;34m\u001b[0m\u001b[0m\n\u001b[1;32m    594\u001b[0m                     \u001b[0;32melse\u001b[0m\u001b[0;34m:\u001b[0m\u001b[0;34m\u001b[0m\u001b[0;34m\u001b[0m\u001b[0m\n\u001b[0;32m--> 595\u001b[0;31m                         \u001b[0mtensor_str\u001b[0m \u001b[0;34m=\u001b[0m \u001b[0m_tensor_str\u001b[0m\u001b[0;34m(\u001b[0m\u001b[0mself\u001b[0m\u001b[0;34m,\u001b[0m \u001b[0mindent\u001b[0m\u001b[0;34m)\u001b[0m\u001b[0;34m\u001b[0m\u001b[0;34m\u001b[0m\u001b[0m\n\u001b[0m\u001b[1;32m    596\u001b[0m \u001b[0;34m\u001b[0m\u001b[0m\n\u001b[1;32m    597\u001b[0m     \u001b[0;32mif\u001b[0m \u001b[0mself\u001b[0m\u001b[0;34m.\u001b[0m\u001b[0mlayout\u001b[0m \u001b[0;34m!=\u001b[0m \u001b[0mtorch\u001b[0m\u001b[0;34m.\u001b[0m\u001b[0mstrided\u001b[0m\u001b[0;34m:\u001b[0m\u001b[0;34m\u001b[0m\u001b[0;34m\u001b[0m\u001b[0m\n",
            "\u001b[0;32m/usr/local/lib/python3.10/dist-packages/torch/_tensor_str.py\u001b[0m in \u001b[0;36m_tensor_str\u001b[0;34m(self, indent)\u001b[0m\n\u001b[1;32m    346\u001b[0m     \u001b[0;32melse\u001b[0m\u001b[0;34m:\u001b[0m\u001b[0;34m\u001b[0m\u001b[0;34m\u001b[0m\u001b[0m\n\u001b[1;32m    347\u001b[0m         \u001b[0mformatter\u001b[0m \u001b[0;34m=\u001b[0m \u001b[0m_Formatter\u001b[0m\u001b[0;34m(\u001b[0m\u001b[0mget_summarized_data\u001b[0m\u001b[0;34m(\u001b[0m\u001b[0mself\u001b[0m\u001b[0;34m)\u001b[0m \u001b[0;32mif\u001b[0m \u001b[0msummarize\u001b[0m \u001b[0;32melse\u001b[0m \u001b[0mself\u001b[0m\u001b[0;34m)\u001b[0m\u001b[0;34m\u001b[0m\u001b[0;34m\u001b[0m\u001b[0m\n\u001b[0;32m--> 348\u001b[0;31m         \u001b[0;32mreturn\u001b[0m \u001b[0m_tensor_str_with_formatter\u001b[0m\u001b[0;34m(\u001b[0m\u001b[0mself\u001b[0m\u001b[0;34m,\u001b[0m \u001b[0mindent\u001b[0m\u001b[0;34m,\u001b[0m \u001b[0msummarize\u001b[0m\u001b[0;34m,\u001b[0m \u001b[0mformatter\u001b[0m\u001b[0;34m)\u001b[0m\u001b[0;34m\u001b[0m\u001b[0;34m\u001b[0m\u001b[0m\n\u001b[0m\u001b[1;32m    349\u001b[0m \u001b[0;34m\u001b[0m\u001b[0m\n\u001b[1;32m    350\u001b[0m \u001b[0;34m\u001b[0m\u001b[0m\n",
            "\u001b[0;32m/usr/local/lib/python3.10/dist-packages/torch/_tensor_str.py\u001b[0m in \u001b[0;36m_tensor_str_with_formatter\u001b[0;34m(self, indent, summarize, formatter1, formatter2)\u001b[0m\n\u001b[1;32m    289\u001b[0m         )\n\u001b[1;32m    290\u001b[0m     \u001b[0;32melse\u001b[0m\u001b[0;34m:\u001b[0m\u001b[0;34m\u001b[0m\u001b[0;34m\u001b[0m\u001b[0m\n\u001b[0;32m--> 291\u001b[0;31m         slices = [\n\u001b[0m\u001b[1;32m    292\u001b[0m             _tensor_str_with_formatter(\n\u001b[1;32m    293\u001b[0m                 \u001b[0mself\u001b[0m\u001b[0;34m[\u001b[0m\u001b[0mi\u001b[0m\u001b[0;34m]\u001b[0m\u001b[0;34m,\u001b[0m \u001b[0mindent\u001b[0m \u001b[0;34m+\u001b[0m \u001b[0;36m1\u001b[0m\u001b[0;34m,\u001b[0m \u001b[0msummarize\u001b[0m\u001b[0;34m,\u001b[0m \u001b[0mformatter1\u001b[0m\u001b[0;34m,\u001b[0m \u001b[0mformatter2\u001b[0m\u001b[0;34m\u001b[0m\u001b[0;34m\u001b[0m\u001b[0m\n",
            "\u001b[0;32m/usr/local/lib/python3.10/dist-packages/torch/_tensor_str.py\u001b[0m in \u001b[0;36m<listcomp>\u001b[0;34m(.0)\u001b[0m\n\u001b[1;32m    290\u001b[0m     \u001b[0;32melse\u001b[0m\u001b[0;34m:\u001b[0m\u001b[0;34m\u001b[0m\u001b[0;34m\u001b[0m\u001b[0m\n\u001b[1;32m    291\u001b[0m         slices = [\n\u001b[0;32m--> 292\u001b[0;31m             _tensor_str_with_formatter(\n\u001b[0m\u001b[1;32m    293\u001b[0m                 \u001b[0mself\u001b[0m\u001b[0;34m[\u001b[0m\u001b[0mi\u001b[0m\u001b[0;34m]\u001b[0m\u001b[0;34m,\u001b[0m \u001b[0mindent\u001b[0m \u001b[0;34m+\u001b[0m \u001b[0;36m1\u001b[0m\u001b[0;34m,\u001b[0m \u001b[0msummarize\u001b[0m\u001b[0;34m,\u001b[0m \u001b[0mformatter1\u001b[0m\u001b[0;34m,\u001b[0m \u001b[0mformatter2\u001b[0m\u001b[0;34m\u001b[0m\u001b[0;34m\u001b[0m\u001b[0m\n\u001b[1;32m    294\u001b[0m             )\n",
            "\u001b[0;32m/usr/local/lib/python3.10/dist-packages/torch/_tensor_str.py\u001b[0m in \u001b[0;36m_tensor_str_with_formatter\u001b[0;34m(self, indent, summarize, formatter1, formatter2)\u001b[0m\n\u001b[1;32m    270\u001b[0m \u001b[0;34m\u001b[0m\u001b[0m\n\u001b[1;32m    271\u001b[0m     \u001b[0;32mif\u001b[0m \u001b[0mdim\u001b[0m \u001b[0;34m==\u001b[0m \u001b[0;36m1\u001b[0m\u001b[0;34m:\u001b[0m\u001b[0;34m\u001b[0m\u001b[0;34m\u001b[0m\u001b[0m\n\u001b[0;32m--> 272\u001b[0;31m         \u001b[0;32mreturn\u001b[0m \u001b[0m_vector_str\u001b[0m\u001b[0;34m(\u001b[0m\u001b[0mself\u001b[0m\u001b[0;34m,\u001b[0m \u001b[0mindent\u001b[0m\u001b[0;34m,\u001b[0m \u001b[0msummarize\u001b[0m\u001b[0;34m,\u001b[0m \u001b[0mformatter1\u001b[0m\u001b[0;34m,\u001b[0m \u001b[0mformatter2\u001b[0m\u001b[0;34m)\u001b[0m\u001b[0;34m\u001b[0m\u001b[0;34m\u001b[0m\u001b[0m\n\u001b[0m\u001b[1;32m    273\u001b[0m \u001b[0;34m\u001b[0m\u001b[0m\n\u001b[1;32m    274\u001b[0m     \u001b[0;32mif\u001b[0m \u001b[0msummarize\u001b[0m \u001b[0;32mand\u001b[0m \u001b[0mself\u001b[0m\u001b[0;34m.\u001b[0m\u001b[0msize\u001b[0m\u001b[0;34m(\u001b[0m\u001b[0;36m0\u001b[0m\u001b[0;34m)\u001b[0m \u001b[0;34m>\u001b[0m \u001b[0;36m2\u001b[0m \u001b[0;34m*\u001b[0m \u001b[0mPRINT_OPTS\u001b[0m\u001b[0;34m.\u001b[0m\u001b[0medgeitems\u001b[0m\u001b[0;34m:\u001b[0m\u001b[0;34m\u001b[0m\u001b[0;34m\u001b[0m\u001b[0m\n",
            "\u001b[0;32m/usr/local/lib/python3.10/dist-packages/torch/_tensor_str.py\u001b[0m in \u001b[0;36m_vector_str\u001b[0;34m(self, indent, summarize, formatter1, formatter2)\u001b[0m\n\u001b[1;32m    256\u001b[0m         \u001b[0mdata\u001b[0m\u001b[0;34m[\u001b[0m\u001b[0mi\u001b[0m \u001b[0;34m:\u001b[0m \u001b[0mi\u001b[0m \u001b[0;34m+\u001b[0m \u001b[0melements_per_line\u001b[0m\u001b[0;34m]\u001b[0m \u001b[0;32mfor\u001b[0m \u001b[0mi\u001b[0m \u001b[0;32min\u001b[0m \u001b[0mrange\u001b[0m\u001b[0;34m(\u001b[0m\u001b[0;36m0\u001b[0m\u001b[0;34m,\u001b[0m \u001b[0mlen\u001b[0m\u001b[0;34m(\u001b[0m\u001b[0mdata\u001b[0m\u001b[0;34m)\u001b[0m\u001b[0;34m,\u001b[0m \u001b[0melements_per_line\u001b[0m\u001b[0;34m)\u001b[0m\u001b[0;34m\u001b[0m\u001b[0;34m\u001b[0m\u001b[0m\n\u001b[1;32m    257\u001b[0m     ]\n\u001b[0;32m--> 258\u001b[0;31m     \u001b[0mlines\u001b[0m \u001b[0;34m=\u001b[0m \u001b[0;34m[\u001b[0m\u001b[0;34m\", \"\u001b[0m\u001b[0;34m.\u001b[0m\u001b[0mjoin\u001b[0m\u001b[0;34m(\u001b[0m\u001b[0mline\u001b[0m\u001b[0;34m)\u001b[0m \u001b[0;32mfor\u001b[0m \u001b[0mline\u001b[0m \u001b[0;32min\u001b[0m \u001b[0mdata_lines\u001b[0m\u001b[0;34m]\u001b[0m\u001b[0;34m\u001b[0m\u001b[0;34m\u001b[0m\u001b[0m\n\u001b[0m\u001b[1;32m    259\u001b[0m     \u001b[0;32mreturn\u001b[0m \u001b[0;34m\"[\"\u001b[0m \u001b[0;34m+\u001b[0m \u001b[0;34m(\u001b[0m\u001b[0;34m\",\"\u001b[0m \u001b[0;34m+\u001b[0m \u001b[0;34m\"\\n\"\u001b[0m \u001b[0;34m+\u001b[0m \u001b[0;34m\" \"\u001b[0m \u001b[0;34m*\u001b[0m \u001b[0;34m(\u001b[0m\u001b[0mindent\u001b[0m \u001b[0;34m+\u001b[0m \u001b[0;36m1\u001b[0m\u001b[0;34m)\u001b[0m\u001b[0;34m)\u001b[0m\u001b[0;34m.\u001b[0m\u001b[0mjoin\u001b[0m\u001b[0;34m(\u001b[0m\u001b[0mlines\u001b[0m\u001b[0;34m)\u001b[0m \u001b[0;34m+\u001b[0m \u001b[0;34m\"]\"\u001b[0m\u001b[0;34m\u001b[0m\u001b[0;34m\u001b[0m\u001b[0m\n\u001b[1;32m    260\u001b[0m \u001b[0;34m\u001b[0m\u001b[0m\n",
            "\u001b[0;32m/usr/local/lib/python3.10/dist-packages/torch/_tensor_str.py\u001b[0m in \u001b[0;36m<listcomp>\u001b[0;34m(.0)\u001b[0m\n\u001b[1;32m    256\u001b[0m         \u001b[0mdata\u001b[0m\u001b[0;34m[\u001b[0m\u001b[0mi\u001b[0m \u001b[0;34m:\u001b[0m \u001b[0mi\u001b[0m \u001b[0;34m+\u001b[0m \u001b[0melements_per_line\u001b[0m\u001b[0;34m]\u001b[0m \u001b[0;32mfor\u001b[0m \u001b[0mi\u001b[0m \u001b[0;32min\u001b[0m \u001b[0mrange\u001b[0m\u001b[0;34m(\u001b[0m\u001b[0;36m0\u001b[0m\u001b[0;34m,\u001b[0m \u001b[0mlen\u001b[0m\u001b[0;34m(\u001b[0m\u001b[0mdata\u001b[0m\u001b[0;34m)\u001b[0m\u001b[0;34m,\u001b[0m \u001b[0melements_per_line\u001b[0m\u001b[0;34m)\u001b[0m\u001b[0;34m\u001b[0m\u001b[0;34m\u001b[0m\u001b[0m\n\u001b[1;32m    257\u001b[0m     ]\n\u001b[0;32m--> 258\u001b[0;31m     \u001b[0mlines\u001b[0m \u001b[0;34m=\u001b[0m \u001b[0;34m[\u001b[0m\u001b[0;34m\", \"\u001b[0m\u001b[0;34m.\u001b[0m\u001b[0mjoin\u001b[0m\u001b[0;34m(\u001b[0m\u001b[0mline\u001b[0m\u001b[0;34m)\u001b[0m \u001b[0;32mfor\u001b[0m \u001b[0mline\u001b[0m \u001b[0;32min\u001b[0m \u001b[0mdata_lines\u001b[0m\u001b[0;34m]\u001b[0m\u001b[0;34m\u001b[0m\u001b[0;34m\u001b[0m\u001b[0m\n\u001b[0m\u001b[1;32m    259\u001b[0m     \u001b[0;32mreturn\u001b[0m \u001b[0;34m\"[\"\u001b[0m \u001b[0;34m+\u001b[0m \u001b[0;34m(\u001b[0m\u001b[0;34m\",\"\u001b[0m \u001b[0;34m+\u001b[0m \u001b[0;34m\"\\n\"\u001b[0m \u001b[0;34m+\u001b[0m \u001b[0;34m\" \"\u001b[0m \u001b[0;34m*\u001b[0m \u001b[0;34m(\u001b[0m\u001b[0mindent\u001b[0m \u001b[0;34m+\u001b[0m \u001b[0;36m1\u001b[0m\u001b[0;34m)\u001b[0m\u001b[0;34m)\u001b[0m\u001b[0;34m.\u001b[0m\u001b[0mjoin\u001b[0m\u001b[0;34m(\u001b[0m\u001b[0mlines\u001b[0m\u001b[0;34m)\u001b[0m \u001b[0;34m+\u001b[0m \u001b[0;34m\"]\"\u001b[0m\u001b[0;34m\u001b[0m\u001b[0;34m\u001b[0m\u001b[0m\n\u001b[1;32m    260\u001b[0m \u001b[0;34m\u001b[0m\u001b[0m\n",
            "\u001b[0;31mKeyboardInterrupt\u001b[0m: "
          ]
        }
      ]
    },
    {
      "cell_type": "markdown",
      "source": [
        "Reflect on your findings and document any patterns or behaviors you observe. Answer the following questions:\n",
        "\n",
        "<b><font color=\"green\">\n",
        "\n",
        "1. Are there instances where the model gets stuck in a loop, repeating the same phrase or sequence of tokens?\n",
        "2. How diverse are the generated sequences? Do they tend to converge to similar endings, or do they explore different possibilities?\n",
        "3. How contextually relevant are the generated sequences? Do they maintain the meaning and context set by the input text?\n",
        "\n",
        "</font></b>"
      ],
      "metadata": {
        "id": "JFXlc4GiMLr-"
      }
    },
    {
      "cell_type": "markdown",
      "source": [
        "<b><font color=\"yellow\">\n",
        "Using the input \"My name is\" and analyzing the output sequences:\n",
        "\n",
        "\n",
        "1. **Instances of Loops or Repetition**:\n",
        "   - In this case, there is a clear instance of repetition within individual sequences. For example, \"I'm a man. I'm a man. I'm a man.\" is repeated multiple times in the first and third sequences.\n",
        "   - This kind of repetition indicates that the model does get stuck in a loop, repeating the same phrase or sequence of tokens. Such behavior is more apparent with simple or incomplete prompts where the model might latch onto a probable phrase and repeat it.\n",
        "\n",
        "2. **Diversity of Generated Sequences**:\n",
        "   - While the beginnings of the sequences are diverse (with slight variations like \"and I'm a man\" vs. \"and I am a man of God\"), they converge into similar patterns of repetition, showing limited diversity in the latter parts.\n",
        "   - The repeated phrases dominate the sequences, indicating that despite different starts, the model tends towards similar repetitive structures as it continues generating text.\n",
        "\n",
        "3. **Contextual Relevance of Generated Sequences**:\n",
        "   - The sequences start contextually relevantly by attempting to complete the sentence started by \"My name is.\"\n",
        "   - However, the contextual relevance diminishes as the sequences progress into repetitive phrases. The repetition of phrases like \"I'm a man\" seems disconnected from the initial context set by \"My name is\" and doesn't contribute meaningfully to the narrative or context.\n",
        "\n",
        "### Additional Insights:\n",
        "\n",
        "- **Repetition and Model Limitations**: The repetition observed, especially in longer sequences, is a known limitation of many language models. It reflects a tendency to favor certain high-probability phrases, leading to their overuse.\n",
        "- **Prompt Specificity and Output Quality**: The quality and relevance of the output can significantly depend on the specificity and completeness of the input prompt. More specific and contextualized prompts may lead to more coherent and varied outputs.\n",
        "- **Model Training and Biases**: The patterns in the model's outputs also reflect the data it was trained on. Common phrases or structures in the training data might be replicated in the model's output, sometimes leading to repetitive or biased content.\n",
        "\n",
        "In summary, these observations indicate a tendency for the model to loop or repeat phrases, especially with less specific prompts. The diversity in the output is limited when repetition dominates, and the contextual relevance tends to decrease as the sequences progress.\n",
        "</font></b>\n"
      ],
      "metadata": {
        "id": "mKFyYJl4YLIC"
      }
    },
    {
      "cell_type": "markdown",
      "source": [
        "### Enhancing Beam Search with n-gram Blocking and Hamming Diversity Factor\n",
        "\n",
        "Through your experimentation, you might have noticed certain limitations in the plain beam search algorithm. To overcome these, we can integrate advanced techniques such as n-gram blocking and the Hamming diversity factor. Let’s explore these concepts in more detail and see how they can be applied to improve your beam search decoder.\n",
        "\n",
        "#### n-gram Blocking\n",
        "\n",
        "**What is n-gram blocking?**\n",
        "n-gram blocking is a technique used to prevent the model from generating the same sequence of tokens (an n-gram) more than once. An n-gram is a contiguous sequence of `n` tokens from the text. For example, in the sentence \"The cat sat on the mat\", \"the cat sat\" is a 3-gram.\n",
        "\n",
        "**Why use n-gram blocking?**\n",
        "It helps mitigate the issue of repetitive loops in the generated text, a common problem where the model outputs the same phrase over and over again. By blocking previously generated n-grams, we force the model to explore new paths and produce more varied and unique sequences.\n",
        "\n",
        "#### Hamming Diversity Factor\n",
        "\n",
        "**What is the Hamming diversity factor?**\n",
        "The Hamming diversity factor is a technique that introduces diversity into the beam search by penalizing new sequences that are too similar to any existing sequence in the beam. The Hamming distance measures how many positions two sequences of the same length differ. The diversity factor applies a penalty based on this distance, encouraging the selection of more diverse sequences.\n",
        "\n",
        "**Why apply the Hamming diversity factor?**\n",
        "In beam search, there's a risk that all top `k` sequences may become very similar to each other, as they might all share a common prefix. This similarity can reduce the overall diversity of the generated text. By applying the Hamming diversity factor, we encourage the model to generate a set of diverse sequences, potentially covering a wider range of meanings and contexts.\n",
        "\n",
        "#### Step by Step Guide\n",
        "\n",
        "- **n-gram Blocking**:\n",
        "   1. Implement a check within your beam search loop to ensure that no n-gram in the newly generated sequence is a repeat of any n-gram in the current beam.\n",
        "   2. You will need to maintain a list of all n-grams generated so far and prevent these from being considered in future steps.\n",
        "\n",
        "- **Hamming Diversity Factor**:\n",
        "   1. After generating all possible next step candidates but before selecting the top `k`, calculate the Hamming distance between each candidate sequence and all the sequences currently in the beam.\n",
        "   2. Apply a penalty to the scores of the candidate sequences based on their Hamming distance to the sequences in the beam. The penalty can be a simple multiplicative factor that decreases the score of a candidate sequence based on how similar it is to any sequence in the beam.\n",
        "\n",
        "You can use the beam search decoder function you've already completed as a starting point for this section. Integrate the n-gram blocking and Hamming diversity factor into the existing code. This will allow you to directly compare the outputs before and after applying these enhancements, giving you a clear understanding of their impact on the generated text.\n",
        "\n",
        "<font color=\"red\">Warning: You are not allowed to use predefined implementations of the beam serach function from libraries or frameworks!</font>"
      ],
      "metadata": {
        "id": "p2fNsBFqMa1a"
      }
    },
    {
      "cell_type": "code",
      "source": [
        "# @title Q2: Implementing the Enhanced Beam Search Decoder\n",
        "\n",
        "# Function to calculate the Hamming penalty for diversity\n",
        "def calculate_hamming_penalty(sequence, all_sequences, diversity_factor):\n",
        "  \"\"\"\n",
        "  Calculate the cumulative Hamming penalty for a sequence against all other sequences.\n",
        "\n",
        "  Args:\n",
        "  sequence (list): The new sequence for which the penalty is being calculated.\n",
        "  all_sequences (list of lists): All the sequences currently in the beam.\n",
        "  diversity_factor (float): The factor by which the penalty is multiplied.\n",
        "\n",
        "  Returns:\n",
        "  float: The cumulative Hamming penalty for the sequence.\n",
        "  \"\"\"\n",
        "  # print(sequence, all_sequences)\n",
        "  penalties = 0\n",
        "\n",
        "  ## Your code begins ##\n",
        "  for seq_in_beam in all_sequences:\n",
        "    # Calculate Hamming distance between sequence and seq_in_beam\n",
        "    hamming_distance = sum(token1 != token2 for token1, token2 in zip(sequence, seq_in_beam))\n",
        "    penalties += hamming_distance\n",
        "  ## Your code ends ##\n",
        "  return penalties * diversity_factor\n",
        "\n",
        "def enhanced_beam_search_decoder(model, tokenizer, text, k, max_length, n_gram_block_size, diversity_factor):\n",
        "  \"\"\"\n",
        "  Perform beam search decoding with N-gram blocking to prevent loops and apply a Hamming diversity factor.\n",
        "\n",
        "  Args:\n",
        "  model (PreTrainedModel): The language model used for generating predictions.\n",
        "  tokenizer (PreTrainedTokenizer): The tokenizer corresponding to the model.\n",
        "  text (str): The input text to start the generation.\n",
        "  k (int): The beam width; the number of sequences to keep at each step.\n",
        "  max_length (int): The maximum length of the generated sequence.\n",
        "  n_gram_block_size (int): The size of the n-gram to block to prevent repetition.\n",
        "  diversity_factor (float): The factor to encourage diversity among the beam.\n",
        "\n",
        "  Returns:\n",
        "  list of tuples: A list where each tuple contains a generated sequence and its score.\n",
        "  \"\"\"\n",
        "\n",
        "  if text.strip() == \"\":\n",
        "    input_ids = torch.tensor([tokenizer.bos_token_id]).unsqueeze(0)\n",
        "  else:\n",
        "    input_ids = tokenizer.encode(text, return_tensors='pt')\n",
        "\n",
        "\n",
        "  sequences = [(input_ids, 1.0)]\n",
        "  generated_ngrams = set()\n",
        "\n",
        "  ## Your code begins ##\n",
        "  for _ in range(max_length - input_ids.size(1)):\n",
        "    all_candidates = []\n",
        "\n",
        "    for seq, score in sequences:\n",
        "      if seq.size(1) > 0:\n",
        "        outputs = model(seq)\n",
        "        logits = outputs.logits[:, -1, :]\n",
        "        probabilities = torch.softmax(logits, dim=-1).squeeze()\n",
        "\n",
        "      for token_id in range(len(probabilities)):\n",
        "        new_seq = torch.cat([seq, torch.tensor([[token_id]]).to(seq.device)], dim=-1)\n",
        "\n",
        "        # Check for n-gram repetition\n",
        "        ngrams = set(zip(*[new_seq[0][i:] for i in range(n_gram_block_size)]))\n",
        "        if not ngrams.isdisjoint(generated_ngrams):\n",
        "          continue\n",
        "\n",
        "        generated_ngrams.update(ngrams)\n",
        "\n",
        "        new_score = score * probabilities[token_id].item()\n",
        "\n",
        "        # Calculate and apply Hamming penalty\n",
        "        hamming_penalty = calculate_hamming_penalty(new_seq[0], [s[0] for s in sequences], diversity_factor)\n",
        "        adjusted_score = new_score - hamming_penalty\n",
        "\n",
        "        all_candidates.append((new_seq, adjusted_score))\n",
        "    print('*******')\n",
        "    print('new_seq: ', new_seq)\n",
        "    print('********')\n",
        "    print('adjusted_score: ',adjusted_score)\n",
        "    print('********')\n",
        "    print('all_candidates: ', all_candidates)\n",
        "    print('********')\n",
        "    # Select top-k sequences\n",
        "    ordered = sorted(all_candidates, key=lambda x: x[1], reverse=True)\n",
        "    sequences = ordered[:k]\n",
        "\n",
        "  ## Your code ends ##\n",
        "\n",
        "  decoded_sequences = []\n",
        "  for seq, score in sequences:\n",
        "    decoded_sequence = tokenizer.decode(seq[0].squeeze().tolist())\n",
        "    decoded_sequences.append((decoded_sequence, score))\n",
        "\n",
        "  return decoded_sequences"
      ],
      "metadata": {
        "id": "de1YJ4w_Fu7P"
      },
      "execution_count": 36,
      "outputs": []
    },
    {
      "cell_type": "markdown",
      "source": [
        "### Testing and Reflecting on Your Enhanced Beam Search Decoder\n",
        "\n",
        "After implementing the enhancements to your beam search decoder, it's crucial to test its performance and understand the impact of these modifications. By experimenting with different settings and inputs, you can gain valuable insights into the behavior of the algorithm and the effectiveness of n-gram blocking and the Hamming diversity factor.\n",
        "\n",
        "- Start by running your enhanced beam search decoder on different input sentences. Observe how the outputs change with these variations.\n",
        "\n",
        "- Vary the `n_gram_block_size` parameter. A smaller size may lead to more repetitions, whereas a larger size could prevent them but might also affect the natural flow of the text.\n",
        "\n",
        "- Experiment with different values for the `diversity_factor`. Observe how increasing or decreasing this value impacts the diversity of the generated sequences."
      ],
      "metadata": {
        "id": "lPuokM6TR286"
      }
    },
    {
      "cell_type": "code",
      "source": [
        "# @title Testing Your Enhanced Beam Search Decoder Implementation\n",
        "text = \"My name is\" # @param {type:\"string\"}\n",
        "k = 3 # @param {type:\"integer\"}\n",
        "max_length = 25 # @param {type:\"number\"}\n",
        "n_gram_block_size = 2 # @param {type:\"integer\"}\n",
        "diversity_factor = 0.1 # @param {type:\"number\"}\n",
        "\n",
        "sequences = enhanced_beam_search_decoder(model, tokenizer, text, k, max_length, n_gram_block_size, diversity_factor)\n",
        "for sequence in sequences:\n",
        "  print(f\"Sequence: {sequence[0]}, Score: {sequence[1]}\")\n"
      ],
      "metadata": {
        "id": "meLpHGplQQyt",
        "outputId": "b62f1cae-0905-4b41-efe7-65ccfa7f01c5",
        "colab": {
          "base_uri": "https://localhost:8080/",
          "height": 653
        }
      },
      "execution_count": 37,
      "outputs": [
        {
          "output_type": "stream",
          "name": "stdout",
          "text": [
            "*******\n",
            "tensor([[ 3666,  1438,   318, 50256]])\n",
            "********\n",
            "tensor([ 1.8335e-05, -9.9982e-02, -9.9982e-02])\n",
            "********\n"
          ]
        },
        {
          "output_type": "stream",
          "name": "stderr",
          "text": [
            "IOPub data rate exceeded.\n",
            "The notebook server will temporarily stop sending output\n",
            "to the client in order to avoid crashing it.\n",
            "To change this limit, set the config variable\n",
            "`--NotebookApp.iopub_data_rate_limit`.\n",
            "\n",
            "Current values:\n",
            "NotebookApp.iopub_data_rate_limit=1000000.0 (bytes/sec)\n",
            "NotebookApp.rate_limit_window=3.0 (secs)\n",
            "\n"
          ]
        },
        {
          "output_type": "error",
          "ename": "RuntimeError",
          "evalue": "ignored",
          "traceback": [
            "\u001b[0;31m---------------------------------------------------------------------------\u001b[0m",
            "\u001b[0;31mRuntimeError\u001b[0m                              Traceback (most recent call last)",
            "\u001b[0;32m<ipython-input-37-24655e6a6df3>\u001b[0m in \u001b[0;36m<cell line: 8>\u001b[0;34m()\u001b[0m\n\u001b[1;32m      6\u001b[0m \u001b[0mdiversity_factor\u001b[0m \u001b[0;34m=\u001b[0m \u001b[0;36m0.1\u001b[0m \u001b[0;31m# @param {type:\"number\"}\u001b[0m\u001b[0;34m\u001b[0m\u001b[0;34m\u001b[0m\u001b[0m\n\u001b[1;32m      7\u001b[0m \u001b[0;34m\u001b[0m\u001b[0m\n\u001b[0;32m----> 8\u001b[0;31m \u001b[0msequences\u001b[0m \u001b[0;34m=\u001b[0m \u001b[0menhanced_beam_search_decoder\u001b[0m\u001b[0;34m(\u001b[0m\u001b[0mmodel\u001b[0m\u001b[0;34m,\u001b[0m \u001b[0mtokenizer\u001b[0m\u001b[0;34m,\u001b[0m \u001b[0mtext\u001b[0m\u001b[0;34m,\u001b[0m \u001b[0mk\u001b[0m\u001b[0;34m,\u001b[0m \u001b[0mmax_length\u001b[0m\u001b[0;34m,\u001b[0m \u001b[0mn_gram_block_size\u001b[0m\u001b[0;34m,\u001b[0m \u001b[0mdiversity_factor\u001b[0m\u001b[0;34m)\u001b[0m\u001b[0;34m\u001b[0m\u001b[0;34m\u001b[0m\u001b[0m\n\u001b[0m\u001b[1;32m      9\u001b[0m \u001b[0;32mfor\u001b[0m \u001b[0msequence\u001b[0m \u001b[0;32min\u001b[0m \u001b[0msequences\u001b[0m\u001b[0;34m:\u001b[0m\u001b[0;34m\u001b[0m\u001b[0;34m\u001b[0m\u001b[0m\n\u001b[1;32m     10\u001b[0m   \u001b[0mprint\u001b[0m\u001b[0;34m(\u001b[0m\u001b[0;34mf\"Sequence: {sequence[0]}, Score: {sequence[1]}\"\u001b[0m\u001b[0;34m)\u001b[0m\u001b[0;34m\u001b[0m\u001b[0;34m\u001b[0m\u001b[0m\n",
            "\u001b[0;32m<ipython-input-36-a5398d484fcc>\u001b[0m in \u001b[0;36menhanced_beam_search_decoder\u001b[0;34m(model, tokenizer, text, k, max_length, n_gram_block_size, diversity_factor)\u001b[0m\n\u001b[1;32m     86\u001b[0m     \u001b[0mprint\u001b[0m\u001b[0;34m(\u001b[0m\u001b[0;34m'********'\u001b[0m\u001b[0;34m)\u001b[0m\u001b[0;34m\u001b[0m\u001b[0;34m\u001b[0m\u001b[0m\n\u001b[1;32m     87\u001b[0m     \u001b[0;31m# Select top-k sequences\u001b[0m\u001b[0;34m\u001b[0m\u001b[0;34m\u001b[0m\u001b[0m\n\u001b[0;32m---> 88\u001b[0;31m     \u001b[0mordered\u001b[0m \u001b[0;34m=\u001b[0m \u001b[0msorted\u001b[0m\u001b[0;34m(\u001b[0m\u001b[0mall_candidates\u001b[0m\u001b[0;34m,\u001b[0m \u001b[0mkey\u001b[0m\u001b[0;34m=\u001b[0m\u001b[0;32mlambda\u001b[0m \u001b[0mx\u001b[0m\u001b[0;34m:\u001b[0m \u001b[0mx\u001b[0m\u001b[0;34m[\u001b[0m\u001b[0;36m1\u001b[0m\u001b[0;34m]\u001b[0m\u001b[0;34m,\u001b[0m \u001b[0mreverse\u001b[0m\u001b[0;34m=\u001b[0m\u001b[0;32mTrue\u001b[0m\u001b[0;34m)\u001b[0m\u001b[0;34m\u001b[0m\u001b[0;34m\u001b[0m\u001b[0m\n\u001b[0m\u001b[1;32m     89\u001b[0m     \u001b[0msequences\u001b[0m \u001b[0;34m=\u001b[0m \u001b[0mordered\u001b[0m\u001b[0;34m[\u001b[0m\u001b[0;34m:\u001b[0m\u001b[0mk\u001b[0m\u001b[0;34m]\u001b[0m\u001b[0;34m\u001b[0m\u001b[0;34m\u001b[0m\u001b[0m\n\u001b[1;32m     90\u001b[0m \u001b[0;34m\u001b[0m\u001b[0m\n",
            "\u001b[0;31mRuntimeError\u001b[0m: Boolean value of Tensor with more than one value is ambiguous"
          ]
        }
      ]
    },
    {
      "cell_type": "markdown",
      "source": [
        "After conducting your experiments, reflect on the following questions:\n",
        "\n",
        "<b><font color=\"green\">\n",
        "4. How does changing the n-gram blocking size affect the output of the beam search? Are there any trade-offs involved in choosing a particular n-gram size?\n",
        "5. How does the diversity factor influence the variety of the generated sequences? Did you notice a difference in the output quality with varying diversity factors?\n",
        "6. How do these enhancements (n-gram blocking and diversity factor) improve upon the vanilla beam search algorithm?\n",
        "</font></b>"
      ],
      "metadata": {
        "id": "NKl9QeOmSCsU"
      }
    },
    {
      "cell_type": "markdown",
      "source": [
        "## 3. Machine Translation and BLEU Metric\n",
        "\n",
        "In this section of the assignment, you will explore how to evaluate the quality of translations produced by generative language models using the BLEU (Bilingual Evaluation Understudy) metric. The BLEU metric is widely used for assessing the quality of machine-generated translations by comparing them with a set of reference translations."
      ],
      "metadata": {
        "id": "r7lMCBOiYNqm"
      }
    },
    {
      "cell_type": "markdown",
      "source": [
        "### The WMT16 Task\n",
        "\n",
        "For this task, we'll use the WMT16 (Workshop on Machine Translation 2016) dataset to provide English to German translation pairs. This dataset is a benchmark in the NLP community for evaluating translation models.\n"
      ],
      "metadata": {
        "id": "UMKvHzyeZQj2"
      }
    },
    {
      "cell_type": "code",
      "source": [
        "# @title Load WMT dataset\n",
        "wmt_en_de = load_dataset(\"wmt16\", \"de-en\", split=\"test\")  # Use the appropriate split\n",
        "\n",
        "# Sample a subset for demonstration purposes\n",
        "wmt_en_de_subset = wmt_en_de.shuffle().select(range(100))  # select 100 samples randomly\n"
      ],
      "metadata": {
        "id": "UkAn-3lDZQ_w"
      },
      "execution_count": null,
      "outputs": []
    },
    {
      "cell_type": "markdown",
      "source": [
        "### BLEU Metric\n",
        "\n",
        "The BLEU metric quantifies the similarity between a machine-generated translation and a set of high-quality reference translations. It does this by computing the precision of matched n-grams between the translations and references, applying a brevity penalty to prevent favoring overly short translations.\n",
        "\n",
        "As part of this exercise, you are expected to implement the `calculate_bleu_score` function. This function will take a list of predicted sentences and a list of reference sentences and return the BLEU score.\n",
        "\n",
        "To implement the BLEU metric, students should follow a step-by-step process that aligns with the mathematical foundations of the metric. The BLEU score calculation involves multiple components, each addressing a different aspect of the translation's quality.\n",
        "\n",
        "#### Step-by-Step Guide\n",
        "\n",
        "1. **Understanding BLEU**\n",
        "  - Start by understanding the BLEU score's components. The BLEU score evaluates the quality of machine-translated text against reference translations using n-gram precision and a brevity penalty.\n",
        "  - Read about the mathematical details in this [foundational blog post on BLEU](https://towardsdatascience.com/foundations-of-nlp-explained-bleu-score-and-wer-metrics-1a5ba06d812b).\n",
        "\n",
        "2. **Tokenization**\n",
        "  - Tokenize both the predicted sentences and the reference sentences. This means splitting each sentence into its constituent words or tokens.\n",
        "\n",
        "3. **N-gram Precision Calculation**\n",
        "  - For n-grams of sizes 1 to 4 (unigrams to 4-grams), calculate the precision. Precision is the ratio of the number of matching n-grams in the predicted text to the number of n-grams in the predicted text.\n",
        "  - Use the `ngrams` function from NLTK to generate n-grams from the sentences.\n",
        "\n",
        "4. **Count Overlapping N-grams**\n",
        "  - For each n-gram size, count the number of n-grams in the predicted text that appear in the reference text. This count is capped by the maximum number of times each n-gram appears in the reference text (to avoid over-counting repeated n-grams).\n",
        "\n",
        "5. **Calculate Individual Precisions**\n",
        "  - Divide the count of overlapping n-grams by the total number of n-grams in the predicted text for each n-gram size. This gives you the precision for each n-gram size.\n",
        "\n",
        "6. **Compute Brevity Penalty**\n",
        "  - The brevity penalty penalizes overly short predicted texts. It's calculated as `exp(1 - r/c)` where `r` is the length of the reference text and `c` is the length of the predicted text. If the predicted text is longer than the reference, the brevity penalty is 1 (no penalty).\n",
        "\n",
        "7. **Calculate BLEU Score**\n",
        "  - The final BLEU score is the geometric mean of the four n-gram precisions, multiplied by the brevity penalty. Use the `math` library to calculate the geometric mean.\n",
        "\n",
        "\n",
        "<font color=\"red\">Warning: You are not allowed to use predefined implementations of the BLEU metric from libraries or frameworks!</font>"
      ],
      "metadata": {
        "id": "EGIHpMmXaB1_"
      }
    },
    {
      "cell_type": "code",
      "source": [
        "# @title Q3: Implementing the BLEU Metric\n",
        "\n",
        "import math\n",
        "from collections import Counter\n",
        "from nltk.util import ngrams\n",
        "\n",
        "def calculate_bleu_score(predictions, references):\n",
        "  \"\"\"\n",
        "  Calculate BLEU score for a list of predicted sentences given a list of reference sentences.\n",
        "\n",
        "  Args:\n",
        "  predictions (list of str): A list of predicted sentences.\n",
        "  references (list of str): A list of reference sentences.\n",
        "\n",
        "  Returns:\n",
        "  float: The calculated BLEU score.\n",
        "  \"\"\"\n",
        "  ## Your code begins ##\n",
        "  pass\n",
        "  ## Your code ends ##\n"
      ],
      "metadata": {
        "id": "TTFPnIRqbF-e"
      },
      "execution_count": null,
      "outputs": []
    },
    {
      "cell_type": "markdown",
      "source": [
        "### Evaluating Models with Your BLEU Implementation\n",
        "\n",
        "In this section, you will apply your implementation of the BLEU metric to evaluate the performance of two generative models: T5 and mGPT. This practical application will not only test the effectiveness of your BLEU score calculation but also provide insights into the comparative strengths and weaknesses of these models in translation tasks."
      ],
      "metadata": {
        "id": "y-9Op5j3dnhK"
      }
    },
    {
      "cell_type": "code",
      "source": [
        "# @title Calculate BLEU Scores for T5 and mGPT\n",
        "\n",
        "def translate_with_t5(text, model, tokenizer):\n",
        "  input_ids = tokenizer(f\"translate English to German: {text}\", return_tensors=\"pt\").input_ids.to(device)\n",
        "  outputs = model.generate(input_ids)\n",
        "  translation = tokenizer.decode(outputs[0], skip_special_tokens=True)\n",
        "  return translation\n",
        "\n",
        "def translate_with_mgpt(text, model, tokenizer):\n",
        "  prompt = f\"Translate English to German: '{text}'\"\n",
        "  inputs = tokenizer(prompt, return_tensors=\"pt\").to(device)\n",
        "  inputs['max_new_tokens'] = 20\n",
        "  outputs = model.generate(**inputs)\n",
        "  translation = tokenizer.decode(outputs[0], skip_special_tokens=True)\n",
        "  translation = translation[len(prompt):]\n",
        "  return translation.strip()\n",
        "\n",
        "t5_translations = [translate_with_t5(example[\"translation\"][\"en\"], t5_model, t5_tokenizer) for example in wmt_en_de_subset]\n",
        "mgpt_translations = [translate_with_mgpt(example[\"translation\"][\"en\"], mgpt_model, mgpt_tokenizer) for example in wmt_en_de_subset]\n",
        "\n",
        "references = [example[\"translation\"][\"de\"] for example in wmt_en_de_subset]\n",
        "\n",
        "t5_bleu_score = calculate_bleu_score(predictions=t5_translations, references=references)\n",
        "mgpt_bleu_score = calculate_bleu_score(predictions=mgpt_translations, references=references)\n",
        "\n",
        "print(f\"T5 BLEU Score: {t5_bleu_score:.4f}\")\n",
        "print(f\"mGPT BLEU Score: {mgpt_bleu_score:.4f}\")"
      ],
      "metadata": {
        "id": "xu8HrM4RbXpB"
      },
      "execution_count": null,
      "outputs": []
    },
    {
      "cell_type": "markdown",
      "source": [
        "After calculating the BLEU scores, reflect on the following questions:\n",
        "\n",
        "<b>\n",
        "<font color=\"green\">\n",
        "\n",
        "7. Which model achieved a higher BLEU score? Why do you think this model performed better in terms of translation quality? Analyze why. Consider the architectural differences between T5 and mGPT, and how these might contribute to T5's effectiveness in translation.\n",
        "\n",
        "</font>\n",
        "</b>"
      ],
      "metadata": {
        "id": "JMvHOhQwd4r1"
      }
    },
    {
      "cell_type": "markdown",
      "source": [
        "## 4. Visualizing Attention in T5\n",
        "\n",
        "In this analytical section, you will dive into the inner workings of the T5 model by visualizing its attention mechanisms. The attention mechanism in transformers is a critical component that determines which parts of the input sequence are focused on during each step of the decoding process. Understanding attention can provide deeper insights into how models like T5 handle context and relationships within the input data.\n",
        "\n",
        "Your task is to implement a function that extracts the self-attention and cross-attention weights from the T5 model when processing a given piece of text. Using these weights, you will create visualizations to explore how the model attends to different parts of the input and output sequences during translation."
      ],
      "metadata": {
        "id": "kJO91j_qb87R"
      }
    },
    {
      "cell_type": "markdown",
      "source": [
        "### Implement `get_attention_weights` Function:\n",
        "\n",
        "Refer to the [T5 model documentation on Hugging Face](https://huggingface.co/docs/transformers/model_doc/t5) to understand how to access the attention weights (both self-attention and cross-attention) from the model's outputs.\n",
        "Use this knowledge to complete the `get_attention_weights` function, which should generate output sequences for decoder input and extract the attention weights for visualization.\n"
      ],
      "metadata": {
        "id": "fTGqso1uziCk"
      }
    },
    {
      "cell_type": "code",
      "source": [
        "# @title Q4: Implement `get_attention_weights` Function\n",
        "\n",
        "def get_attention_weights(text, model, tokenizer):\n",
        "  \"\"\"\n",
        "  Generate the input sequence and output sequence using the model, then retrieve the self-attention\n",
        "  and cross-attention weights for visualization.\n",
        "\n",
        "  Args:\n",
        "  text (str): The text to be processed by the model, including any task-specific prefix.\n",
        "  model (T5ForConditionalGeneration): The pre-trained T5 model.\n",
        "  tokenizer (T5Tokenizer): The tokenizer corresponding to the T5 model.\n",
        "\n",
        "  Returns:\n",
        "  tuple: A tuple containing three elements:\n",
        "      - self_attentions (torch.Tensor): A tensor of shape (num_layers, batch_size, num_heads, seq_length, seq_length)\n",
        "        containing the self-attention weights from the encoder.\n",
        "      - cross_attentions (torch.Tensor): A tensor of shape (num_layers, batch_size, num_heads, seq_length, seq_length)\n",
        "        containing the cross-attention weights from the decoder.\n",
        "      - output_sequences (torch.Tensor): A tensor containing the generated output sequence ids.\n",
        "  \"\"\"\n",
        "  ## Your code begins ##\n",
        "  pass\n",
        "  ## Your code ends ##"
      ],
      "metadata": {
        "id": "TYEPSKGOzaD2"
      },
      "execution_count": null,
      "outputs": []
    },
    {
      "cell_type": "code",
      "source": [
        "# @title Visualize Attention Weights\n",
        "text = \"Translate English to French: The agreement on the European Economic Area was signed in August 1992.\" # @param {type:\"string\"}\n",
        "layer_to_visualize = -1 # @param {type:\"integer\"}\n",
        "head_to_visualize = -1 # @param {type:\"integer\"}\n",
        "attention_type = \"cross\" # @param [\"cross\", \"self\"]\n",
        "\n",
        "def visualize_attention(attention_weights, tokens, output_tokens, layer_num, head_num):\n",
        "  attention = attention_weights[layer_num][head_num].detach().cpu().numpy()\n",
        "\n",
        "  plt.figure(figsize=(10, 8))\n",
        "  if attention_type == \"cross\":\n",
        "    sns.heatmap(attention, xticklabels=tokens, yticklabels=output_tokens, annot=False, cmap='viridis')\n",
        "  else:\n",
        "    sns.heatmap(attention, xticklabels=tokens, yticklabels=tokens, annot=False, cmap='viridis')\n",
        "\n",
        "  plt.title(f\"{attention_type.title()} Attention (Layer {layer_num + 1}, Head {head_num + 1})\")\n",
        "  plt.xlabel(\"Decoder Tokens\" if attention_type == \"cross\" else \"Input Tokens\")\n",
        "  plt.ylabel(\"Encoder Tokens\" if attention_type == \"cross\" else \"Input Tokens\")\n",
        "  plt.show()\n",
        "\n",
        "model = T5ForConditionalGeneration.from_pretrained('t5-small')\n",
        "tokenizer = T5Tokenizer.from_pretrained('t5-small')\n",
        "model.eval()\n",
        "\n",
        "self_attentions, cross_attentions, output_sequences = get_attention_weights(text, model, tokenizer)\n",
        "\n",
        "input_tokens = [tokenizer.decode(token_id) for token_id in tokenizer(text, return_tensors=\"pt\")['input_ids'][0]]\n",
        "output_tokens = [tokenizer.decode(token_id) for token_id in output_sequences[0]]\n",
        "\n",
        "if attention_type == \"cross\":\n",
        "  visualize_attention(cross_attentions[layer_to_visualize], input_tokens, output_tokens, layer_to_visualize, head_to_visualize, \"cross\")\n",
        "else:\n",
        "  visualize_attention(self_attentions[layer_to_visualize], input_tokens, input_tokens, layer_to_visualize, head_to_visualize, \"self\")\n"
      ],
      "metadata": {
        "id": "5_Z9rwxysKiK"
      },
      "execution_count": null,
      "outputs": []
    },
    {
      "cell_type": "markdown",
      "source": [
        "To gain a deeper understanding of the T5 model's attention mechanisms, you should modify various parameters and observe the resulting changes in attention patterns. This analysis will reveal how the model allocates attention at different stages of processing and how each head within the layers may capture different types of information.\n",
        "\n",
        "As you perform the analysis, consider the following questions:\n",
        "\n",
        "<font color=\"green\"><b>\n",
        "\n",
        "8. How do attention patterns differ between the first and last layers of the model? What does this suggest about the role of initial versus deeper layers in processing the input?\n",
        "9. What variations do you observe in the attention patterns of different heads within the same layer? Can you hypothesize what different types of information each head might be capturing?\n",
        "10. How does the complexity or length of the input text influence the attention patterns? Do certain types of sentences result in more or less attention spread across the input tokens?\n",
        "\n",
        "</b></font>\n",
        "\n",
        "Document your observations and hypotheses regarding the different attention patterns you observe. Answer the questions provided, supporting your answers with specific examples from your visualizations. This exercise will help you understand the nuanced ways in which the T5 model processes and translates input sequences.\n",
        "\n",
        "\n",
        "\n",
        "\n",
        "\n"
      ],
      "metadata": {
        "id": "59ll4g9220yB"
      }
    }
  ]
}