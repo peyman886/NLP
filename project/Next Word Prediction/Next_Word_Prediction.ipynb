{
  "nbformat": 4,
  "nbformat_minor": 0,
  "metadata": {
    "colab": {
      "name": "Next Word Prediction.ipynb",
      "provenance": [],
      "collapsed_sections": []
    },
    "kernelspec": {
      "name": "python3",
      "display_name": "Python 3"
    },
    "language_info": {
      "name": "python"
    },
    "accelerator": "GPU",
    "gpuClass": "standard"
  },
  "cells": [
    {
      "cell_type": "markdown",
      "source": [
        "# Next Word Prediction Using Bidirectional LSTM "
      ],
      "metadata": {
        "id": "3VG9jjj0Yzsw"
      }
    },
    {
      "cell_type": "code",
      "execution_count": 1,
      "metadata": {
        "id": "T0tSalNGsUrA",
        "colab": {
          "base_uri": "https://localhost:8080/"
        },
        "outputId": "7bc96f82-1fba-40d6-fc0e-108173f78542"
      },
      "outputs": [
        {
          "output_type": "stream",
          "name": "stdout",
          "text": [
            "Looking in indexes: https://pypi.org/simple, https://us-python.pkg.dev/colab-wheels/public/simple/\n",
            "Requirement already satisfied: tensorflow in /usr/local/lib/python3.7/dist-packages (2.8.2+zzzcolab20220719082949)\n",
            "Requirement already satisfied: tensorflow-estimator<2.9,>=2.8 in /usr/local/lib/python3.7/dist-packages (from tensorflow) (2.8.0)\n",
            "Requirement already satisfied: gast>=0.2.1 in /usr/local/lib/python3.7/dist-packages (from tensorflow) (0.5.3)\n",
            "Requirement already satisfied: google-pasta>=0.1.1 in /usr/local/lib/python3.7/dist-packages (from tensorflow) (0.2.0)\n",
            "Requirement already satisfied: h5py>=2.9.0 in /usr/local/lib/python3.7/dist-packages (from tensorflow) (3.1.0)\n",
            "Requirement already satisfied: astunparse>=1.6.0 in /usr/local/lib/python3.7/dist-packages (from tensorflow) (1.6.3)\n",
            "Requirement already satisfied: absl-py>=0.4.0 in /usr/local/lib/python3.7/dist-packages (from tensorflow) (1.2.0)\n",
            "Requirement already satisfied: tensorflow-io-gcs-filesystem>=0.23.1 in /usr/local/lib/python3.7/dist-packages (from tensorflow) (0.26.0)\n",
            "Requirement already satisfied: opt-einsum>=2.3.2 in /usr/local/lib/python3.7/dist-packages (from tensorflow) (3.3.0)\n",
            "Requirement already satisfied: keras-preprocessing>=1.1.1 in /usr/local/lib/python3.7/dist-packages (from tensorflow) (1.1.2)\n",
            "Requirement already satisfied: setuptools in /usr/local/lib/python3.7/dist-packages (from tensorflow) (57.4.0)\n",
            "Requirement already satisfied: libclang>=9.0.1 in /usr/local/lib/python3.7/dist-packages (from tensorflow) (14.0.6)\n",
            "Requirement already satisfied: protobuf<3.20,>=3.9.2 in /usr/local/lib/python3.7/dist-packages (from tensorflow) (3.17.3)\n",
            "Requirement already satisfied: grpcio<2.0,>=1.24.3 in /usr/local/lib/python3.7/dist-packages (from tensorflow) (1.47.0)\n",
            "Requirement already satisfied: flatbuffers>=1.12 in /usr/local/lib/python3.7/dist-packages (from tensorflow) (2.0)\n",
            "Requirement already satisfied: keras<2.9,>=2.8.0rc0 in /usr/local/lib/python3.7/dist-packages (from tensorflow) (2.8.0)\n",
            "Requirement already satisfied: typing-extensions>=3.6.6 in /usr/local/lib/python3.7/dist-packages (from tensorflow) (4.1.1)\n",
            "Requirement already satisfied: termcolor>=1.1.0 in /usr/local/lib/python3.7/dist-packages (from tensorflow) (1.1.0)\n",
            "Requirement already satisfied: numpy>=1.20 in /usr/local/lib/python3.7/dist-packages (from tensorflow) (1.21.6)\n",
            "Requirement already satisfied: six>=1.12.0 in /usr/local/lib/python3.7/dist-packages (from tensorflow) (1.15.0)\n",
            "Requirement already satisfied: wrapt>=1.11.0 in /usr/local/lib/python3.7/dist-packages (from tensorflow) (1.14.1)\n",
            "Requirement already satisfied: tensorboard<2.9,>=2.8 in /usr/local/lib/python3.7/dist-packages (from tensorflow) (2.8.0)\n",
            "Requirement already satisfied: wheel<1.0,>=0.23.0 in /usr/local/lib/python3.7/dist-packages (from astunparse>=1.6.0->tensorflow) (0.37.1)\n",
            "Requirement already satisfied: cached-property in /usr/local/lib/python3.7/dist-packages (from h5py>=2.9.0->tensorflow) (1.5.2)\n",
            "Requirement already satisfied: werkzeug>=0.11.15 in /usr/local/lib/python3.7/dist-packages (from tensorboard<2.9,>=2.8->tensorflow) (1.0.1)\n",
            "Requirement already satisfied: google-auth-oauthlib<0.5,>=0.4.1 in /usr/local/lib/python3.7/dist-packages (from tensorboard<2.9,>=2.8->tensorflow) (0.4.6)\n",
            "Requirement already satisfied: tensorboard-data-server<0.7.0,>=0.6.0 in /usr/local/lib/python3.7/dist-packages (from tensorboard<2.9,>=2.8->tensorflow) (0.6.1)\n",
            "Requirement already satisfied: requests<3,>=2.21.0 in /usr/local/lib/python3.7/dist-packages (from tensorboard<2.9,>=2.8->tensorflow) (2.23.0)\n",
            "Requirement already satisfied: tensorboard-plugin-wit>=1.6.0 in /usr/local/lib/python3.7/dist-packages (from tensorboard<2.9,>=2.8->tensorflow) (1.8.1)\n",
            "Requirement already satisfied: google-auth<3,>=1.6.3 in /usr/local/lib/python3.7/dist-packages (from tensorboard<2.9,>=2.8->tensorflow) (1.35.0)\n",
            "Requirement already satisfied: markdown>=2.6.8 in /usr/local/lib/python3.7/dist-packages (from tensorboard<2.9,>=2.8->tensorflow) (3.4.1)\n",
            "Requirement already satisfied: cachetools<5.0,>=2.0.0 in /usr/local/lib/python3.7/dist-packages (from google-auth<3,>=1.6.3->tensorboard<2.9,>=2.8->tensorflow) (4.2.4)\n",
            "Requirement already satisfied: rsa<5,>=3.1.4 in /usr/local/lib/python3.7/dist-packages (from google-auth<3,>=1.6.3->tensorboard<2.9,>=2.8->tensorflow) (4.9)\n",
            "Requirement already satisfied: pyasn1-modules>=0.2.1 in /usr/local/lib/python3.7/dist-packages (from google-auth<3,>=1.6.3->tensorboard<2.9,>=2.8->tensorflow) (0.2.8)\n",
            "Requirement already satisfied: requests-oauthlib>=0.7.0 in /usr/local/lib/python3.7/dist-packages (from google-auth-oauthlib<0.5,>=0.4.1->tensorboard<2.9,>=2.8->tensorflow) (1.3.1)\n",
            "Requirement already satisfied: importlib-metadata>=4.4 in /usr/local/lib/python3.7/dist-packages (from markdown>=2.6.8->tensorboard<2.9,>=2.8->tensorflow) (4.12.0)\n",
            "Requirement already satisfied: zipp>=0.5 in /usr/local/lib/python3.7/dist-packages (from importlib-metadata>=4.4->markdown>=2.6.8->tensorboard<2.9,>=2.8->tensorflow) (3.8.1)\n",
            "Requirement already satisfied: pyasn1<0.5.0,>=0.4.6 in /usr/local/lib/python3.7/dist-packages (from pyasn1-modules>=0.2.1->google-auth<3,>=1.6.3->tensorboard<2.9,>=2.8->tensorflow) (0.4.8)\n",
            "Requirement already satisfied: chardet<4,>=3.0.2 in /usr/local/lib/python3.7/dist-packages (from requests<3,>=2.21.0->tensorboard<2.9,>=2.8->tensorflow) (3.0.4)\n",
            "Requirement already satisfied: urllib3!=1.25.0,!=1.25.1,<1.26,>=1.21.1 in /usr/local/lib/python3.7/dist-packages (from requests<3,>=2.21.0->tensorboard<2.9,>=2.8->tensorflow) (1.24.3)\n",
            "Requirement already satisfied: idna<3,>=2.5 in /usr/local/lib/python3.7/dist-packages (from requests<3,>=2.21.0->tensorboard<2.9,>=2.8->tensorflow) (2.10)\n",
            "Requirement already satisfied: certifi>=2017.4.17 in /usr/local/lib/python3.7/dist-packages (from requests<3,>=2.21.0->tensorboard<2.9,>=2.8->tensorflow) (2022.6.15)\n",
            "Requirement already satisfied: oauthlib>=3.0.0 in /usr/local/lib/python3.7/dist-packages (from requests-oauthlib>=0.7.0->google-auth-oauthlib<0.5,>=0.4.1->tensorboard<2.9,>=2.8->tensorflow) (3.2.0)\n"
          ]
        }
      ],
      "source": [
        "import pandas as pd\n",
        "import os\n",
        "import numpy as np\n",
        "!pip install tensorflow\n",
        "import os\n",
        "import json\n",
        "import matplotlib.pyplot as plt\n",
        "import tensorflow as tf\n",
        "from tensorflow.keras.preprocessing.sequence import pad_sequences\n",
        "from tensorflow.keras.layers import Embedding, LSTM, Dense, Bidirectional\n",
        "from tensorflow.keras.preprocessing.text import Tokenizer\n",
        "from tensorflow.keras.models import Sequential\n",
        "from tensorflow.keras.optimizers import Adam\n",
        "from tensorflow.keras.models import load_model"
      ]
    },
    {
      "cell_type": "code",
      "source": [
        "# from google.colab import drive\n",
        "# drive.mount('/content/drive', force_remount=True)\n",
        "# os.chdir('drive/My Drive/LSTM')"
      ],
      "metadata": {
        "colab": {
          "base_uri": "https://localhost:8080/"
        },
        "id": "8bdn_TkJsbll",
        "outputId": "d0d92862-056e-4525-910a-10167ee63ac6"
      },
      "execution_count": 2,
      "outputs": [
        {
          "output_type": "stream",
          "name": "stdout",
          "text": [
            "Mounted at /content/drive\n"
          ]
        }
      ]
    },
    {
      "cell_type": "code",
      "source": [
        "class NextWordModel:\n",
        "    \"\"\"\n",
        "    A class used to predict the next word(s)\n",
        "\n",
        "    Attributes\n",
        "    ----------\n",
        "    next_words : int\n",
        "        The number of words to predict\n",
        "    model : \n",
        "        A model of type tensorflow.keras.models \n",
        "    normalizer: \n",
        "        A Hazm normalizer used to normalize seed text\n",
        "    tokenizer:\n",
        "        A tokenizer used in trainig phase and also used to tokenize seed text\n",
        "\n",
        "    Methods\n",
        "    -------\n",
        "    predict(seed_text)\n",
        "        Predicts next_words in given seed_text and returns a string\n",
        "    \"\"\"\n",
        "    def __init__(self, next_words = 1):\n",
        "        \"\"\"\n",
        "        Preparation steps\n",
        "\n",
        "        \"\"\"\n",
        "        # specify number of next words to predict\n",
        "        self.next_words = next_words\n",
        "        \n",
        "        # read data\n",
        "        data = pd.read_csv('raw_data_for_next_word.csv')\n",
        "\n",
        "        # only titles of data are used for training model\n",
        "        # removing some unicodes\n",
        "        data['title'] = data['title'].apply(lambda x: x.replace(u'\\xa0',u' '))\n",
        "        data['title'] = data['title'].apply(lambda x: x.replace('\\u200a',' '))\n",
        "        \n",
        "        # tokenizer definition\n",
        "        self.tokenizer = Tokenizer(oov_token='<oov>') # For those words which are not found in word_index\n",
        "        self.tokenizer.fit_on_texts(data['title'])\n",
        "        self.total_words = len(self.tokenizer.word_index) + 1\n",
        "        \n",
        "        input_sequences = []\n",
        "        for line in data['title']:\n",
        "            token_list = self.tokenizer.texts_to_sequences([line])[0]\n",
        "\n",
        "            for i in range(1, len(token_list)):\n",
        "                n_gram_sequence = token_list[:i+1]\n",
        "                input_sequences.append(n_gram_sequence)\n",
        "\n",
        "        # pad sequences\n",
        "        self.max_sequence_len = max([len(x) for x in input_sequences])\n",
        "        input_sequences = np.array(pad_sequences(input_sequences, maxlen=self.max_sequence_len, padding='pre'))\n",
        "\n",
        "        # create features and label\n",
        "        self.xs, labels = input_sequences[:,:-1],input_sequences[:,-1]\n",
        "        self.ys = tf.keras.utils.to_categorical(labels, num_classes=self.total_words)\n",
        "\n",
        "    \n",
        "    def train(self):\n",
        "      \"\"\"\n",
        "        Trains Bidirectional LSTM on data used to next word prediction\n",
        "\n",
        "      \"\"\"\n",
        "      # model definition and train\n",
        "      self.model = Sequential()\n",
        "      self.model.add(Embedding(self.total_words, 100, input_length=self.max_sequence_len-1))\n",
        "      self.model.add(Bidirectional(LSTM(150)))\n",
        "      self.model.add(Dense(self.total_words, activation='softmax'))\n",
        "      adam = Adam(lr=0.01)\n",
        "      self.model.compile(loss='categorical_crossentropy', optimizer=adam, metrics=['accuracy'])\n",
        "      self.history = self.model.fit(self.xs, self.ys, epochs=50, verbose=1)\n",
        "\n",
        "      # save model\n",
        "      self.model.save('model/model.h5')\n",
        "    \n",
        "    def predict(self, seed_text):\n",
        "        \"\"\"\n",
        "        Predicts next_words in given seed_text and returns a string,\n",
        "\n",
        "        Parameters\n",
        "        ----------\n",
        "        seed_text : str\n",
        "            The text to used to make prediction\n",
        "\n",
        "        Returns\n",
        "        -------\n",
        "        A string containing seed text and predicted next word(s)\n",
        "        \n",
        "        \"\"\"\n",
        "        for _ in range(self.next_words):\n",
        "            token_list = self.tokenizer.texts_to_sequences([seed_text])[0]\n",
        "            token_list = pad_sequences([token_list], maxlen=self.max_sequence_len-1, padding='pre')\n",
        "            predict_x = self.model.predict(token_list, verbose=0) \n",
        "            predicted = np.argmax(predict_x,axis=1)\n",
        "\n",
        "            output_word = \"\"\n",
        "            for word, index in self.tokenizer.word_index.items():\n",
        "                if index == predicted:\n",
        "                    output_word = word\n",
        "                    break\n",
        "            seed_text += \" \" + output_word\n",
        "        return seed_text\n",
        "      \n",
        "    def plot_graphs(self, param):\n",
        "      \"\"\"\n",
        "        Plots graphs of model history parameters\n",
        "\n",
        "        Parameters\n",
        "        ----------\n",
        "        history : \n",
        "            Model history\n",
        "        param: string\n",
        "            Model history parameter\n",
        "        \n",
        "        \"\"\"\n",
        "      plt.plot(self.history.history[param])\n",
        "      plt.xlabel(\"Epochs\")\n",
        "      plt.ylabel(param)\n",
        "      plt.show()\n",
        "\n"
      ],
      "metadata": {
        "id": "f6_og7LrS1_g"
      },
      "execution_count": 3,
      "outputs": []
    },
    {
      "cell_type": "code",
      "source": [
        "nwpModel = NextWordModel(next_words = 1)\n",
        "nwpModel.train()"
      ],
      "metadata": {
        "colab": {
          "base_uri": "https://localhost:8080/"
        },
        "id": "K5nh_DmvWplT",
        "outputId": "27c1c005-0b41-4180-db5b-7d070344d6a5"
      },
      "execution_count": 4,
      "outputs": [
        {
          "output_type": "stream",
          "name": "stderr",
          "text": [
            "/usr/local/lib/python3.7/dist-packages/keras/optimizer_v2/adam.py:105: UserWarning: The `lr` argument is deprecated, use `learning_rate` instead.\n",
            "  super(Adam, self).__init__(name, **kwargs)\n"
          ]
        },
        {
          "output_type": "stream",
          "name": "stdout",
          "text": [
            "Epoch 1/50\n",
            "1398/1398 [==============================] - 24s 12ms/step - loss: 8.0801 - accuracy: 0.0481\n",
            "Epoch 2/50\n",
            "1398/1398 [==============================] - 16s 11ms/step - loss: 6.9730 - accuracy: 0.0880\n",
            "Epoch 3/50\n",
            "1398/1398 [==============================] - 16s 11ms/step - loss: 5.5716 - accuracy: 0.1419\n",
            "Epoch 4/50\n",
            "1398/1398 [==============================] - 17s 12ms/step - loss: 4.2005 - accuracy: 0.2387\n",
            "Epoch 5/50\n",
            "1398/1398 [==============================] - 16s 11ms/step - loss: 3.2621 - accuracy: 0.3432\n",
            "Epoch 6/50\n",
            "1398/1398 [==============================] - 16s 12ms/step - loss: 2.6941 - accuracy: 0.4244\n",
            "Epoch 7/50\n",
            "1398/1398 [==============================] - 16s 11ms/step - loss: 2.4219 - accuracy: 0.4688\n",
            "Epoch 8/50\n",
            "1398/1398 [==============================] - 16s 11ms/step - loss: 2.1216 - accuracy: 0.5151\n",
            "Epoch 9/50\n",
            "1398/1398 [==============================] - 18s 13ms/step - loss: 1.9739 - accuracy: 0.5410\n",
            "Epoch 10/50\n",
            "1398/1398 [==============================] - 16s 11ms/step - loss: 1.8653 - accuracy: 0.5610\n",
            "Epoch 11/50\n",
            "1398/1398 [==============================] - 16s 11ms/step - loss: 1.7480 - accuracy: 0.5832\n",
            "Epoch 12/50\n",
            "1398/1398 [==============================] - 16s 11ms/step - loss: 1.6958 - accuracy: 0.5934\n",
            "Epoch 13/50\n",
            "1398/1398 [==============================] - 16s 11ms/step - loss: 1.6456 - accuracy: 0.6044\n",
            "Epoch 14/50\n",
            "1398/1398 [==============================] - 16s 12ms/step - loss: 1.6419 - accuracy: 0.6029\n",
            "Epoch 15/50\n",
            "1398/1398 [==============================] - 16s 11ms/step - loss: 1.5568 - accuracy: 0.6203\n",
            "Epoch 16/50\n",
            "1398/1398 [==============================] - 16s 12ms/step - loss: 1.5658 - accuracy: 0.6205\n",
            "Epoch 17/50\n",
            "1398/1398 [==============================] - 16s 11ms/step - loss: 1.5536 - accuracy: 0.6249\n",
            "Epoch 18/50\n",
            "1398/1398 [==============================] - 16s 11ms/step - loss: 1.4896 - accuracy: 0.6325\n",
            "Epoch 19/50\n",
            "1398/1398 [==============================] - 16s 11ms/step - loss: 1.4571 - accuracy: 0.6426\n",
            "Epoch 20/50\n",
            "1398/1398 [==============================] - 16s 11ms/step - loss: 1.5185 - accuracy: 0.6340\n",
            "Epoch 21/50\n",
            "1398/1398 [==============================] - 16s 11ms/step - loss: 1.5289 - accuracy: 0.6325\n",
            "Epoch 22/50\n",
            "1398/1398 [==============================] - 16s 12ms/step - loss: 1.4628 - accuracy: 0.6445\n",
            "Epoch 23/50\n",
            "1398/1398 [==============================] - 18s 13ms/step - loss: 1.4185 - accuracy: 0.6541\n",
            "Epoch 24/50\n",
            "1398/1398 [==============================] - 16s 12ms/step - loss: 1.4357 - accuracy: 0.6496\n",
            "Epoch 25/50\n",
            "1398/1398 [==============================] - 16s 12ms/step - loss: 1.4022 - accuracy: 0.6572\n",
            "Epoch 26/50\n",
            "1398/1398 [==============================] - 16s 12ms/step - loss: 1.3648 - accuracy: 0.6655\n",
            "Epoch 27/50\n",
            "1398/1398 [==============================] - 16s 12ms/step - loss: 1.4031 - accuracy: 0.6622\n",
            "Epoch 28/50\n",
            "1398/1398 [==============================] - 16s 12ms/step - loss: 1.4204 - accuracy: 0.6576\n",
            "Epoch 29/50\n",
            "1398/1398 [==============================] - 16s 12ms/step - loss: 1.4461 - accuracy: 0.6537\n",
            "Epoch 30/50\n",
            "1398/1398 [==============================] - 16s 12ms/step - loss: 1.3937 - accuracy: 0.6626\n",
            "Epoch 31/50\n",
            "1398/1398 [==============================] - 16s 12ms/step - loss: 1.3812 - accuracy: 0.6658\n",
            "Epoch 32/50\n",
            "1398/1398 [==============================] - 16s 12ms/step - loss: 1.3427 - accuracy: 0.6762\n",
            "Epoch 33/50\n",
            "1398/1398 [==============================] - 16s 12ms/step - loss: 1.3677 - accuracy: 0.6713\n",
            "Epoch 34/50\n",
            "1398/1398 [==============================] - 16s 12ms/step - loss: 1.3443 - accuracy: 0.6773\n",
            "Epoch 35/50\n",
            "1398/1398 [==============================] - 16s 12ms/step - loss: 1.3478 - accuracy: 0.6757\n",
            "Epoch 36/50\n",
            "1398/1398 [==============================] - 18s 13ms/step - loss: 1.3604 - accuracy: 0.6729\n",
            "Epoch 37/50\n",
            "1398/1398 [==============================] - 16s 12ms/step - loss: 1.3525 - accuracy: 0.6756\n",
            "Epoch 38/50\n",
            "1398/1398 [==============================] - 16s 12ms/step - loss: 1.3550 - accuracy: 0.6777\n",
            "Epoch 39/50\n",
            "1398/1398 [==============================] - 16s 12ms/step - loss: 1.3181 - accuracy: 0.6817\n",
            "Epoch 40/50\n",
            "1398/1398 [==============================] - 16s 12ms/step - loss: 1.3009 - accuracy: 0.6850\n",
            "Epoch 41/50\n",
            "1398/1398 [==============================] - 16s 12ms/step - loss: 1.3270 - accuracy: 0.6815\n",
            "Epoch 42/50\n",
            "1398/1398 [==============================] - 17s 12ms/step - loss: 1.2736 - accuracy: 0.6921\n",
            "Epoch 43/50\n",
            "1398/1398 [==============================] - 16s 12ms/step - loss: 1.3170 - accuracy: 0.6896\n",
            "Epoch 44/50\n",
            "1398/1398 [==============================] - 16s 12ms/step - loss: 1.2955 - accuracy: 0.6893\n",
            "Epoch 45/50\n",
            "1398/1398 [==============================] - 16s 12ms/step - loss: 1.3055 - accuracy: 0.6888\n",
            "Epoch 46/50\n",
            "1398/1398 [==============================] - 16s 12ms/step - loss: 1.2827 - accuracy: 0.6950\n",
            "Epoch 47/50\n",
            "1398/1398 [==============================] - 17s 12ms/step - loss: 1.2676 - accuracy: 0.6967\n",
            "Epoch 48/50\n",
            "1398/1398 [==============================] - 17s 12ms/step - loss: 1.2470 - accuracy: 0.6977\n",
            "Epoch 49/50\n",
            "1398/1398 [==============================] - 17s 12ms/step - loss: 1.2367 - accuracy: 0.7017\n",
            "Epoch 50/50\n",
            "1398/1398 [==============================] - 19s 13ms/step - loss: 1.2655 - accuracy: 0.6993\n"
          ]
        }
      ]
    },
    {
      "cell_type": "code",
      "source": [
        "# plot accuracy and loss\n",
        "nwpModel.plot_graphs('accuracy')\n",
        "nwpModel.plot_graphs('loss')"
      ],
      "metadata": {
        "colab": {
          "base_uri": "https://localhost:8080/",
          "height": 541
        },
        "id": "tbo-vPrKcinh",
        "outputId": "cbddf642-d26c-47cc-e113-788944e3b4fb"
      },
      "execution_count": 5,
      "outputs": [
        {
          "output_type": "display_data",
          "data": {
            "text/plain": [
              "<Figure size 432x288 with 1 Axes>"
            ],
            "image/png": "[encoded data removed]"
          },
          "metadata": {
            "needs_background": "light"
          }
        },
        {
          "output_type": "display_data",
          "data": {
            "text/plain": [
              "<Figure size 432x288 with 1 Axes>"
            ],
            "image/png": "[encoded data removed]"
          },
          "metadata": {
            "needs_background": "light"
          }
        }
      ]
    },
    {
      "cell_type": "code",
      "source": [
        "nwpModel.predict(\"سازمان\")"
      ],
      "metadata": {
        "colab": {
          "base_uri": "https://localhost:8080/",
          "height": 35
        },
        "id": "vepbhQVXYL7S",
        "outputId": "8f85916a-6d2b-433e-ce6c-c9078abc4373"
      },
      "execution_count": 6,
      "outputs": [
        {
          "output_type": "execute_result",
          "data": {
            "text/plain": [
              "'سازمان صهیونیستی'"
            ],
            "application/vnd.google.colaboratory.intrinsic+json": {
              "type": "string"
            }
          },
          "metadata": {},
          "execution_count": 6
        }
      ]
    },
    {
      "cell_type": "code",
      "source": [
        "nwpModel.predict(\"اداره\")"
      ],
      "metadata": {
        "colab": {
          "base_uri": "https://localhost:8080/",
          "height": 35
        },
        "id": "_H_c_PEzblRH",
        "outputId": "e332d046-a9de-478c-dfdf-1dcfcad236fc"
      },
      "execution_count": 14,
      "outputs": [
        {
          "output_type": "execute_result",
          "data": {
            "text/plain": [
              "'اداره فرهنگ'"
            ],
            "application/vnd.google.colaboratory.intrinsic+json": {
              "type": "string"
            }
          },
          "metadata": {},
          "execution_count": 14
        }
      ]
    },
    {
      "cell_type": "code",
      "source": [
        "nwpModel.predict(\"تیم ملی\")"
      ],
      "metadata": {
        "colab": {
          "base_uri": "https://localhost:8080/",
          "height": 35
        },
        "id": "f818xEAUbsmY",
        "outputId": "8d59cb33-d081-487d-c51c-2c75b035d680"
      },
      "execution_count": 11,
      "outputs": [
        {
          "output_type": "execute_result",
          "data": {
            "text/plain": [
              "'تیم ملی جوانان'"
            ],
            "application/vnd.google.colaboratory.intrinsic+json": {
              "type": "string"
            }
          },
          "metadata": {},
          "execution_count": 11
        }
      ]
    },
    {
      "cell_type": "code",
      "source": [],
      "metadata": {
        "id": "Mg5yHmX0cB6R"
      },
      "execution_count": null,
      "outputs": []
    }
  ]
}